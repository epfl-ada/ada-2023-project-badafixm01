{
 "cells": [
  {
   "cell_type": "markdown",
   "id": "c9995bd8-cb93-4b85-9dba-ed36b6f5fdfd",
   "metadata": {
    "jp-MarkdownHeadingCollapsed": true,
    "tags": []
   },
   "source": [
    "# Text preprocessing"
   ]
  },
  {
   "cell_type": "code",
   "execution_count": null,
   "id": "4765c276-5c98-4ee7-a52d-6ddab9480715",
   "metadata": {
    "tags": []
   },
   "outputs": [],
   "source": [
    "import os\n",
    "import nltk\n",
    "import string\n",
    "from nltk.stem import WordNetLemmatizer\n",
    "from nltk.corpus import stopwords\n",
    "nltk.download('punkt')\n",
    "nltk.download('wordnet')\n",
    "nltk.download('stopwords')"
   ]
  },
  {
   "cell_type": "code",
   "execution_count": 8,
   "id": "97dfd12a-593e-4f6e-8dcc-52d1cc172a83",
   "metadata": {},
   "outputs": [],
   "source": [
    "def tokenize(text):\n",
    "    \"\"\"\n",
    "    Tokenize, lemmatize, remove stopwords and punctuations from an input text.\n",
    "    \n",
    "    Parameters\n",
    "    ----------\n",
    "    text: str, input text\n",
    "    \n",
    "    Returns\n",
    "    -------\n",
    "    str, preprocessed text\n",
    "    \"\"\"\n",
    "    lemmatizer = WordNetLemmatizer()\n",
    "    stop_words = stopwords.words('english')\n",
    "    \n",
    "    tokens = nltk.word_tokenize(text)\n",
    "    text = [word for word in tokens if word not in string.punctuation]\n",
    "    \n",
    "    return \" \".join([lemmatizer.lemmatize(word.lower()) for word in text if word.lower() not in stop_words])"
   ]
  },
  {
   "cell_type": "code",
   "execution_count": 16,
   "id": "ac9a01c8-43fc-4c56-929d-ba7725740891",
   "metadata": {
    "tags": []
   },
   "outputs": [],
   "source": [
    "def preprocess_summaries(readpath, savepath=None):\n",
    "    \"\"\"\n",
    "    Preprocess all movie summaries.\n",
    "    \n",
    "    Parameters\n",
    "    ----------\n",
    "    readpath: str, path to original summaries (.txt)\n",
    "    savepath: str, path to preprocessed summaries (.csv)\n",
    "    \n",
    "    Returns\n",
    "    -------\n",
    "    original_summaries: list, original summaries\n",
    "    df: pandas.DataFrame, preprocessed summaries with movie_id as index\n",
    "    \"\"\"\n",
    "    with open(readpath, encoding='utf-8') as f:\n",
    "        content = f.readlines()\n",
    "    original_summaries = [x.strip() for x in content] \n",
    "    summaries = [tokenize(d).split() for d in original_summaries]\n",
    "    summaries = {summary[0]: \" \".join(summary[1:]) for summary in summaries}\n",
    "    \n",
    "    df = pd.DataFrame.from_dict(summaries, orient='index', columns=['text'])\n",
    "    df.index = df.index.astype('int64').rename('movie_id')\n",
    "    \n",
    "    if savepath is not None:\n",
    "        df.to_csv(savepath)\n",
    "    return original_summaries, df"
   ]
  },
  {
   "cell_type": "code",
   "execution_count": 17,
   "id": "dcb8957d-a7e4-43d9-9d7b-effae62279b8",
   "metadata": {
    "tags": []
   },
   "outputs": [],
   "source": [
    "readpath = \"./data/plot_summaries.txt\"\n",
    "savepath = \"./generated/summaries.csv\"\n",
    "os.makedirs(\"./generated/\", exist_ok=True)\n",
    "\n",
    "original_summaries, summaries = preprocess_summaries(readpath, savepath)"
   ]
  },
  {
   "cell_type": "code",
   "execution_count": 18,
   "id": "c127e63d-c63d-42bb-a71f-ea91cf0e91be",
   "metadata": {
    "tags": []
   },
   "outputs": [
    {
     "data": {
      "text/plain": [
       "\"23890098\\tShlykov, a hard-working taxi driver and Lyosha, a saxophonist, develop a bizarre love-hate relationship, and despite their prejudices, realize they aren't so different after all.\""
      ]
     },
     "execution_count": 18,
     "metadata": {},
     "output_type": "execute_result"
    }
   ],
   "source": [
    "original_summaries[0] # original"
   ]
  },
  {
   "cell_type": "code",
   "execution_count": 20,
   "id": "b9c0128d-214e-4197-8532-7439529dfaeb",
   "metadata": {
    "tags": []
   },
   "outputs": [
    {
     "data": {
      "text/plain": [
       "\"shlykov hard-working taxi driver lyosha saxophonist develop bizarre love-hate relationship despite prejudice realize n't different\""
      ]
     },
     "execution_count": 20,
     "metadata": {},
     "output_type": "execute_result"
    }
   ],
   "source": [
    "summaries.iloc[0]['text'] # preprocessed"
   ]
  },
  {
   "cell_type": "markdown",
   "id": "04384f93-db8c-4a4e-9214-eb91ee33a02c",
   "metadata": {
    "tags": []
   },
   "source": [
    "# Join movie metadata"
   ]
  },
  {
   "cell_type": "code",
   "execution_count": 1,
   "id": "855577e8-fda3-4362-898a-aafc3423cbad",
   "metadata": {
    "tags": []
   },
   "outputs": [],
   "source": [
    "import pandas as pd"
   ]
  },
  {
   "cell_type": "code",
   "execution_count": 12,
   "id": "a63e3efe-6ed8-44a2-9243-ba180cbd151e",
   "metadata": {
    "tags": []
   },
   "outputs": [
    {
     "data": {
      "text/html": [
       "<div>\n",
       "<style scoped>\n",
       "    .dataframe tbody tr th:only-of-type {\n",
       "        vertical-align: middle;\n",
       "    }\n",
       "\n",
       "    .dataframe tbody tr th {\n",
       "        vertical-align: top;\n",
       "    }\n",
       "\n",
       "    .dataframe thead th {\n",
       "        text-align: right;\n",
       "    }\n",
       "</style>\n",
       "<table border=\"1\" class=\"dataframe\">\n",
       "  <thead>\n",
       "    <tr style=\"text-align: right;\">\n",
       "      <th></th>\n",
       "      <th>movie_id</th>\n",
       "      <th>freebase_id</th>\n",
       "      <th>movie_name</th>\n",
       "      <th>date</th>\n",
       "      <th>revenue</th>\n",
       "      <th>runtime</th>\n",
       "      <th>language</th>\n",
       "      <th>country</th>\n",
       "      <th>genre</th>\n",
       "    </tr>\n",
       "  </thead>\n",
       "  <tbody>\n",
       "    <tr>\n",
       "      <th>0</th>\n",
       "      <td>975900</td>\n",
       "      <td>/m/03vyhn</td>\n",
       "      <td>Ghosts of Mars</td>\n",
       "      <td>2001-08-24</td>\n",
       "      <td>14010832.0</td>\n",
       "      <td>98.0</td>\n",
       "      <td>{\"/m/02h40lc\": \"English Language\"}</td>\n",
       "      <td>{\"/m/09c7w0\": \"United States of America\"}</td>\n",
       "      <td>Thriller</td>\n",
       "    </tr>\n",
       "    <tr>\n",
       "      <th>1</th>\n",
       "      <td>975900</td>\n",
       "      <td>/m/03vyhn</td>\n",
       "      <td>Ghosts of Mars</td>\n",
       "      <td>2001-08-24</td>\n",
       "      <td>14010832.0</td>\n",
       "      <td>98.0</td>\n",
       "      <td>{\"/m/02h40lc\": \"English Language\"}</td>\n",
       "      <td>{\"/m/09c7w0\": \"United States of America\"}</td>\n",
       "      <td>Science Fiction</td>\n",
       "    </tr>\n",
       "    <tr>\n",
       "      <th>2</th>\n",
       "      <td>975900</td>\n",
       "      <td>/m/03vyhn</td>\n",
       "      <td>Ghosts of Mars</td>\n",
       "      <td>2001-08-24</td>\n",
       "      <td>14010832.0</td>\n",
       "      <td>98.0</td>\n",
       "      <td>{\"/m/02h40lc\": \"English Language\"}</td>\n",
       "      <td>{\"/m/09c7w0\": \"United States of America\"}</td>\n",
       "      <td>Horror</td>\n",
       "    </tr>\n",
       "    <tr>\n",
       "      <th>3</th>\n",
       "      <td>975900</td>\n",
       "      <td>/m/03vyhn</td>\n",
       "      <td>Ghosts of Mars</td>\n",
       "      <td>2001-08-24</td>\n",
       "      <td>14010832.0</td>\n",
       "      <td>98.0</td>\n",
       "      <td>{\"/m/02h40lc\": \"English Language\"}</td>\n",
       "      <td>{\"/m/09c7w0\": \"United States of America\"}</td>\n",
       "      <td>Adventure</td>\n",
       "    </tr>\n",
       "    <tr>\n",
       "      <th>4</th>\n",
       "      <td>975900</td>\n",
       "      <td>/m/03vyhn</td>\n",
       "      <td>Ghosts of Mars</td>\n",
       "      <td>2001-08-24</td>\n",
       "      <td>14010832.0</td>\n",
       "      <td>98.0</td>\n",
       "      <td>{\"/m/02h40lc\": \"English Language\"}</td>\n",
       "      <td>{\"/m/09c7w0\": \"United States of America\"}</td>\n",
       "      <td>Supernatural</td>\n",
       "    </tr>\n",
       "  </tbody>\n",
       "</table>\n",
       "</div>"
      ],
      "text/plain": [
       "   movie_id freebase_id      movie_name        date     revenue  runtime  \\\n",
       "0    975900   /m/03vyhn  Ghosts of Mars  2001-08-24  14010832.0     98.0   \n",
       "1    975900   /m/03vyhn  Ghosts of Mars  2001-08-24  14010832.0     98.0   \n",
       "2    975900   /m/03vyhn  Ghosts of Mars  2001-08-24  14010832.0     98.0   \n",
       "3    975900   /m/03vyhn  Ghosts of Mars  2001-08-24  14010832.0     98.0   \n",
       "4    975900   /m/03vyhn  Ghosts of Mars  2001-08-24  14010832.0     98.0   \n",
       "\n",
       "                             language  \\\n",
       "0  {\"/m/02h40lc\": \"English Language\"}   \n",
       "1  {\"/m/02h40lc\": \"English Language\"}   \n",
       "2  {\"/m/02h40lc\": \"English Language\"}   \n",
       "3  {\"/m/02h40lc\": \"English Language\"}   \n",
       "4  {\"/m/02h40lc\": \"English Language\"}   \n",
       "\n",
       "                                     country            genre  \n",
       "0  {\"/m/09c7w0\": \"United States of America\"}         Thriller  \n",
       "1  {\"/m/09c7w0\": \"United States of America\"}  Science Fiction  \n",
       "2  {\"/m/09c7w0\": \"United States of America\"}           Horror  \n",
       "3  {\"/m/09c7w0\": \"United States of America\"}        Adventure  \n",
       "4  {\"/m/09c7w0\": \"United States of America\"}     Supernatural  "
      ]
     },
     "execution_count": 12,
     "metadata": {},
     "output_type": "execute_result"
    }
   ],
   "source": [
    "colnames = ['movie_id', 'freebase_id', 'movie_name', 'date', 'revenue', 'runtime', 'language', 'country', 'genre']\n",
    "metadata = pd.read_csv('./data/movie.metadata.tsv',\n",
    "                    sep='\\t',\n",
    "                    header=None,\n",
    "                    names=colnames)\n",
    "# convert \"genre\" column to dictionary and expand it into new rows\n",
    "metadata.genre = metadata.genre.apply(lambda x: list(eval(x).values()))\n",
    "metadata = metadata.explode('genre').reset_index(drop=True)\n",
    "metadata.head()"
   ]
  },
  {
   "cell_type": "code",
   "execution_count": 14,
   "id": "14529397-f1a6-48c3-9e8e-4b61f2d251e9",
   "metadata": {
    "tags": []
   },
   "outputs": [
    {
     "name": "stdout",
     "output_type": "stream",
     "text": [
      "Number of movies with summary: 42207\n"
     ]
    }
   ],
   "source": [
    "summary = pd.read_csv(\"./generated/summaries.csv\")\n",
    "summary_metadata = summary.merge(metadata, on=\"movie_id\", how=\"inner\")\n",
    "print(\"Number of movies with summary: {}\".format(len(summary_metadata.movie_id.unique())))"
   ]
  },
  {
   "cell_type": "markdown",
   "id": "8838349a-ecde-4ac3-aece-d50004317244",
   "metadata": {
    "tags": []
   },
   "source": [
    "# Regression analysis"
   ]
  },
  {
   "cell_type": "code",
   "execution_count": 4,
   "id": "e4bc5253-779d-438a-8e78-0b07f1ee9994",
   "metadata": {
    "tags": []
   },
   "outputs": [],
   "source": [
    "import pandas as pd\n",
    "import matplotlib.pyplot as plt\n",
    "import seaborn as sns\n",
    "import statsmodels.api as sm\n",
    "import statsmodels.formula.api as smf"
   ]
  },
  {
   "cell_type": "code",
   "execution_count": 5,
   "id": "e65ba3e4-1480-4d18-8657-bf5c9c2d13c3",
   "metadata": {
    "tags": []
   },
   "outputs": [
    {
     "data": {
      "text/html": [
       "<div>\n",
       "<style scoped>\n",
       "    .dataframe tbody tr th:only-of-type {\n",
       "        vertical-align: middle;\n",
       "    }\n",
       "\n",
       "    .dataframe tbody tr th {\n",
       "        vertical-align: top;\n",
       "    }\n",
       "\n",
       "    .dataframe thead th {\n",
       "        text-align: right;\n",
       "    }\n",
       "</style>\n",
       "<table border=\"1\" class=\"dataframe\">\n",
       "  <thead>\n",
       "    <tr style=\"text-align: right;\">\n",
       "      <th></th>\n",
       "      <th>Movie ID</th>\n",
       "      <th>anger</th>\n",
       "      <th>anticipation</th>\n",
       "      <th>disgust</th>\n",
       "      <th>fear</th>\n",
       "      <th>joy</th>\n",
       "      <th>sadness</th>\n",
       "      <th>surprise</th>\n",
       "      <th>trust</th>\n",
       "    </tr>\n",
       "  </thead>\n",
       "  <tbody>\n",
       "    <tr>\n",
       "      <th>0</th>\n",
       "      <td>23890098</td>\n",
       "      <td>0.545</td>\n",
       "      <td>0.508</td>\n",
       "      <td>0.000</td>\n",
       "      <td>0.000</td>\n",
       "      <td>0.514</td>\n",
       "      <td>0.000</td>\n",
       "      <td>0.578</td>\n",
       "      <td>0.656</td>\n",
       "    </tr>\n",
       "    <tr>\n",
       "      <th>1</th>\n",
       "      <td>31186339</td>\n",
       "      <td>21.194</td>\n",
       "      <td>12.817</td>\n",
       "      <td>8.796</td>\n",
       "      <td>28.742</td>\n",
       "      <td>13.018</td>\n",
       "      <td>16.055</td>\n",
       "      <td>7.102</td>\n",
       "      <td>17.189</td>\n",
       "    </tr>\n",
       "    <tr>\n",
       "      <th>2</th>\n",
       "      <td>20663735</td>\n",
       "      <td>12.641</td>\n",
       "      <td>6.514</td>\n",
       "      <td>3.917</td>\n",
       "      <td>14.270</td>\n",
       "      <td>10.557</td>\n",
       "      <td>11.749</td>\n",
       "      <td>3.398</td>\n",
       "      <td>17.851</td>\n",
       "    </tr>\n",
       "    <tr>\n",
       "      <th>3</th>\n",
       "      <td>2231378</td>\n",
       "      <td>10.029</td>\n",
       "      <td>14.450</td>\n",
       "      <td>3.774</td>\n",
       "      <td>11.866</td>\n",
       "      <td>42.855</td>\n",
       "      <td>8.775</td>\n",
       "      <td>6.217</td>\n",
       "      <td>14.474</td>\n",
       "    </tr>\n",
       "    <tr>\n",
       "      <th>4</th>\n",
       "      <td>595909</td>\n",
       "      <td>6.694</td>\n",
       "      <td>7.516</td>\n",
       "      <td>2.769</td>\n",
       "      <td>7.930</td>\n",
       "      <td>8.273</td>\n",
       "      <td>8.365</td>\n",
       "      <td>2.320</td>\n",
       "      <td>15.985</td>\n",
       "    </tr>\n",
       "  </tbody>\n",
       "</table>\n",
       "</div>"
      ],
      "text/plain": [
       "   Movie ID   anger  anticipation  disgust    fear     joy  sadness  surprise  \\\n",
       "0  23890098   0.545         0.508    0.000   0.000   0.514    0.000     0.578   \n",
       "1  31186339  21.194        12.817    8.796  28.742  13.018   16.055     7.102   \n",
       "2  20663735  12.641         6.514    3.917  14.270  10.557   11.749     3.398   \n",
       "3   2231378  10.029        14.450    3.774  11.866  42.855    8.775     6.217   \n",
       "4    595909   6.694         7.516    2.769   7.930   8.273    8.365     2.320   \n",
       "\n",
       "    trust  \n",
       "0   0.656  \n",
       "1  17.189  \n",
       "2  17.851  \n",
       "3  14.474  \n",
       "4  15.985  "
      ]
     },
     "execution_count": 5,
     "metadata": {},
     "output_type": "execute_result"
    }
   ],
   "source": [
    "intensity = pd.read_csv(\"./generated/MovieIDs_emotions.csv\")\n",
    "intensity.head()"
   ]
  },
  {
   "cell_type": "markdown",
   "id": "e5e7c281-8b55-42b7-83be-7d1e176233a2",
   "metadata": {},
   "source": [
    "Prior to performing regression analysis, we first normalize the intensity scores such that the scores for each movie sum up to 1. In this way the intensity score indicates a relative strength of each emotion in the movie summary, and we ensure that the coefficients for different emotions obtained from regression analysis are comparable."
   ]
  },
  {
   "cell_type": "code",
   "execution_count": 6,
   "id": "01c3fe7d-0ea6-4443-bf62-fb939b7035d7",
   "metadata": {
    "tags": []
   },
   "outputs": [
    {
     "data": {
      "text/html": [
       "<div>\n",
       "<style scoped>\n",
       "    .dataframe tbody tr th:only-of-type {\n",
       "        vertical-align: middle;\n",
       "    }\n",
       "\n",
       "    .dataframe tbody tr th {\n",
       "        vertical-align: top;\n",
       "    }\n",
       "\n",
       "    .dataframe thead th {\n",
       "        text-align: right;\n",
       "    }\n",
       "</style>\n",
       "<table border=\"1\" class=\"dataframe\">\n",
       "  <thead>\n",
       "    <tr style=\"text-align: right;\">\n",
       "      <th></th>\n",
       "      <th>Movie ID</th>\n",
       "      <th>anger</th>\n",
       "      <th>anticipation</th>\n",
       "      <th>disgust</th>\n",
       "      <th>fear</th>\n",
       "      <th>joy</th>\n",
       "      <th>sadness</th>\n",
       "      <th>surprise</th>\n",
       "      <th>trust</th>\n",
       "    </tr>\n",
       "  </thead>\n",
       "  <tbody>\n",
       "    <tr>\n",
       "      <th>0</th>\n",
       "      <td>23890098</td>\n",
       "      <td>0.194573</td>\n",
       "      <td>0.181364</td>\n",
       "      <td>0.000000</td>\n",
       "      <td>0.000000</td>\n",
       "      <td>0.183506</td>\n",
       "      <td>0.000000</td>\n",
       "      <td>0.206355</td>\n",
       "      <td>0.234202</td>\n",
       "    </tr>\n",
       "    <tr>\n",
       "      <th>1</th>\n",
       "      <td>31186339</td>\n",
       "      <td>0.169670</td>\n",
       "      <td>0.102607</td>\n",
       "      <td>0.070417</td>\n",
       "      <td>0.230096</td>\n",
       "      <td>0.104217</td>\n",
       "      <td>0.128529</td>\n",
       "      <td>0.056856</td>\n",
       "      <td>0.137608</td>\n",
       "    </tr>\n",
       "    <tr>\n",
       "      <th>2</th>\n",
       "      <td>20663735</td>\n",
       "      <td>0.156260</td>\n",
       "      <td>0.080522</td>\n",
       "      <td>0.048420</td>\n",
       "      <td>0.176397</td>\n",
       "      <td>0.130499</td>\n",
       "      <td>0.145234</td>\n",
       "      <td>0.042004</td>\n",
       "      <td>0.220663</td>\n",
       "    </tr>\n",
       "    <tr>\n",
       "      <th>3</th>\n",
       "      <td>2231378</td>\n",
       "      <td>0.089194</td>\n",
       "      <td>0.128513</td>\n",
       "      <td>0.033565</td>\n",
       "      <td>0.105532</td>\n",
       "      <td>0.381137</td>\n",
       "      <td>0.078042</td>\n",
       "      <td>0.055292</td>\n",
       "      <td>0.128726</td>\n",
       "    </tr>\n",
       "    <tr>\n",
       "      <th>4</th>\n",
       "      <td>595909</td>\n",
       "      <td>0.111843</td>\n",
       "      <td>0.125576</td>\n",
       "      <td>0.046264</td>\n",
       "      <td>0.132493</td>\n",
       "      <td>0.138224</td>\n",
       "      <td>0.139761</td>\n",
       "      <td>0.038762</td>\n",
       "      <td>0.267075</td>\n",
       "    </tr>\n",
       "  </tbody>\n",
       "</table>\n",
       "</div>"
      ],
      "text/plain": [
       "   Movie ID     anger  anticipation   disgust      fear       joy   sadness  \\\n",
       "0  23890098  0.194573      0.181364  0.000000  0.000000  0.183506  0.000000   \n",
       "1  31186339  0.169670      0.102607  0.070417  0.230096  0.104217  0.128529   \n",
       "2  20663735  0.156260      0.080522  0.048420  0.176397  0.130499  0.145234   \n",
       "3   2231378  0.089194      0.128513  0.033565  0.105532  0.381137  0.078042   \n",
       "4    595909  0.111843      0.125576  0.046264  0.132493  0.138224  0.139761   \n",
       "\n",
       "   surprise     trust  \n",
       "0  0.206355  0.234202  \n",
       "1  0.056856  0.137608  \n",
       "2  0.042004  0.220663  \n",
       "3  0.055292  0.128726  \n",
       "4  0.038762  0.267075  "
      ]
     },
     "execution_count": 6,
     "metadata": {},
     "output_type": "execute_result"
    }
   ],
   "source": [
    "# Normalize intensity scores by the sum for each movie\n",
    "intensity.iloc[:, 1:] = intensity.iloc[:, 1:].div(intensity.iloc[:, 1:].sum(axis=1), axis=0)\n",
    "intensity.head()"
   ]
  },
  {
   "cell_type": "markdown",
   "id": "0836e397-7f95-4bef-a0f9-6879fdc45ede",
   "metadata": {},
   "source": [
    "The box office revenues are normalized to the range of [0, 1] by min-max normalization for easier interpretation of regression coefficients. In total, we have 7588 movies with intensity scores and box office revenue available for this analysis."
   ]
  },
  {
   "cell_type": "code",
   "execution_count": 15,
   "id": "6b07e894-3de3-48c5-a9a9-c63330ab447e",
   "metadata": {
    "tags": []
   },
   "outputs": [
    {
     "name": "stdout",
     "output_type": "stream",
     "text": [
      "Number of movies with intensity scores: 42202\n",
      "Number of movies with intensity scores, and revenue: 7588\n"
     ]
    },
    {
     "data": {
      "text/html": [
       "<div>\n",
       "<style scoped>\n",
       "    .dataframe tbody tr th:only-of-type {\n",
       "        vertical-align: middle;\n",
       "    }\n",
       "\n",
       "    .dataframe tbody tr th {\n",
       "        vertical-align: top;\n",
       "    }\n",
       "\n",
       "    .dataframe thead th {\n",
       "        text-align: right;\n",
       "    }\n",
       "</style>\n",
       "<table border=\"1\" class=\"dataframe\">\n",
       "  <thead>\n",
       "    <tr style=\"text-align: right;\">\n",
       "      <th></th>\n",
       "      <th>movie_id</th>\n",
       "      <th>freebase_id</th>\n",
       "      <th>movie_name</th>\n",
       "      <th>date</th>\n",
       "      <th>revenue</th>\n",
       "      <th>runtime</th>\n",
       "      <th>language</th>\n",
       "      <th>country</th>\n",
       "      <th>genre</th>\n",
       "      <th>anger</th>\n",
       "      <th>anticipation</th>\n",
       "      <th>disgust</th>\n",
       "      <th>fear</th>\n",
       "      <th>joy</th>\n",
       "      <th>sadness</th>\n",
       "      <th>surprise</th>\n",
       "      <th>trust</th>\n",
       "    </tr>\n",
       "  </thead>\n",
       "  <tbody>\n",
       "    <tr>\n",
       "      <th>0</th>\n",
       "      <td>975900</td>\n",
       "      <td>/m/03vyhn</td>\n",
       "      <td>Ghosts of Mars</td>\n",
       "      <td>2001-08-24</td>\n",
       "      <td>0.005032</td>\n",
       "      <td>98.0</td>\n",
       "      <td>{\"/m/02h40lc\": \"English Language\"}</td>\n",
       "      <td>{\"/m/09c7w0\": \"United States of America\"}</td>\n",
       "      <td>Thriller</td>\n",
       "      <td>0.199208</td>\n",
       "      <td>0.040236</td>\n",
       "      <td>0.088978</td>\n",
       "      <td>0.290556</td>\n",
       "      <td>0.042002</td>\n",
       "      <td>0.16037</td>\n",
       "      <td>0.018043</td>\n",
       "      <td>0.160606</td>\n",
       "    </tr>\n",
       "    <tr>\n",
       "      <th>1</th>\n",
       "      <td>975900</td>\n",
       "      <td>/m/03vyhn</td>\n",
       "      <td>Ghosts of Mars</td>\n",
       "      <td>2001-08-24</td>\n",
       "      <td>0.005032</td>\n",
       "      <td>98.0</td>\n",
       "      <td>{\"/m/02h40lc\": \"English Language\"}</td>\n",
       "      <td>{\"/m/09c7w0\": \"United States of America\"}</td>\n",
       "      <td>Science Fiction</td>\n",
       "      <td>0.199208</td>\n",
       "      <td>0.040236</td>\n",
       "      <td>0.088978</td>\n",
       "      <td>0.290556</td>\n",
       "      <td>0.042002</td>\n",
       "      <td>0.16037</td>\n",
       "      <td>0.018043</td>\n",
       "      <td>0.160606</td>\n",
       "    </tr>\n",
       "    <tr>\n",
       "      <th>2</th>\n",
       "      <td>975900</td>\n",
       "      <td>/m/03vyhn</td>\n",
       "      <td>Ghosts of Mars</td>\n",
       "      <td>2001-08-24</td>\n",
       "      <td>0.005032</td>\n",
       "      <td>98.0</td>\n",
       "      <td>{\"/m/02h40lc\": \"English Language\"}</td>\n",
       "      <td>{\"/m/09c7w0\": \"United States of America\"}</td>\n",
       "      <td>Horror</td>\n",
       "      <td>0.199208</td>\n",
       "      <td>0.040236</td>\n",
       "      <td>0.088978</td>\n",
       "      <td>0.290556</td>\n",
       "      <td>0.042002</td>\n",
       "      <td>0.16037</td>\n",
       "      <td>0.018043</td>\n",
       "      <td>0.160606</td>\n",
       "    </tr>\n",
       "    <tr>\n",
       "      <th>3</th>\n",
       "      <td>975900</td>\n",
       "      <td>/m/03vyhn</td>\n",
       "      <td>Ghosts of Mars</td>\n",
       "      <td>2001-08-24</td>\n",
       "      <td>0.005032</td>\n",
       "      <td>98.0</td>\n",
       "      <td>{\"/m/02h40lc\": \"English Language\"}</td>\n",
       "      <td>{\"/m/09c7w0\": \"United States of America\"}</td>\n",
       "      <td>Adventure</td>\n",
       "      <td>0.199208</td>\n",
       "      <td>0.040236</td>\n",
       "      <td>0.088978</td>\n",
       "      <td>0.290556</td>\n",
       "      <td>0.042002</td>\n",
       "      <td>0.16037</td>\n",
       "      <td>0.018043</td>\n",
       "      <td>0.160606</td>\n",
       "    </tr>\n",
       "    <tr>\n",
       "      <th>4</th>\n",
       "      <td>975900</td>\n",
       "      <td>/m/03vyhn</td>\n",
       "      <td>Ghosts of Mars</td>\n",
       "      <td>2001-08-24</td>\n",
       "      <td>0.005032</td>\n",
       "      <td>98.0</td>\n",
       "      <td>{\"/m/02h40lc\": \"English Language\"}</td>\n",
       "      <td>{\"/m/09c7w0\": \"United States of America\"}</td>\n",
       "      <td>Supernatural</td>\n",
       "      <td>0.199208</td>\n",
       "      <td>0.040236</td>\n",
       "      <td>0.088978</td>\n",
       "      <td>0.290556</td>\n",
       "      <td>0.042002</td>\n",
       "      <td>0.16037</td>\n",
       "      <td>0.018043</td>\n",
       "      <td>0.160606</td>\n",
       "    </tr>\n",
       "  </tbody>\n",
       "</table>\n",
       "</div>"
      ],
      "text/plain": [
       "   movie_id freebase_id      movie_name        date   revenue  runtime  \\\n",
       "0    975900   /m/03vyhn  Ghosts of Mars  2001-08-24  0.005032     98.0   \n",
       "1    975900   /m/03vyhn  Ghosts of Mars  2001-08-24  0.005032     98.0   \n",
       "2    975900   /m/03vyhn  Ghosts of Mars  2001-08-24  0.005032     98.0   \n",
       "3    975900   /m/03vyhn  Ghosts of Mars  2001-08-24  0.005032     98.0   \n",
       "4    975900   /m/03vyhn  Ghosts of Mars  2001-08-24  0.005032     98.0   \n",
       "\n",
       "                             language  \\\n",
       "0  {\"/m/02h40lc\": \"English Language\"}   \n",
       "1  {\"/m/02h40lc\": \"English Language\"}   \n",
       "2  {\"/m/02h40lc\": \"English Language\"}   \n",
       "3  {\"/m/02h40lc\": \"English Language\"}   \n",
       "4  {\"/m/02h40lc\": \"English Language\"}   \n",
       "\n",
       "                                     country            genre     anger  \\\n",
       "0  {\"/m/09c7w0\": \"United States of America\"}         Thriller  0.199208   \n",
       "1  {\"/m/09c7w0\": \"United States of America\"}  Science Fiction  0.199208   \n",
       "2  {\"/m/09c7w0\": \"United States of America\"}           Horror  0.199208   \n",
       "3  {\"/m/09c7w0\": \"United States of America\"}        Adventure  0.199208   \n",
       "4  {\"/m/09c7w0\": \"United States of America\"}     Supernatural  0.199208   \n",
       "\n",
       "   anticipation   disgust      fear       joy  sadness  surprise     trust  \n",
       "0      0.040236  0.088978  0.290556  0.042002  0.16037  0.018043  0.160606  \n",
       "1      0.040236  0.088978  0.290556  0.042002  0.16037  0.018043  0.160606  \n",
       "2      0.040236  0.088978  0.290556  0.042002  0.16037  0.018043  0.160606  \n",
       "3      0.040236  0.088978  0.290556  0.042002  0.16037  0.018043  0.160606  \n",
       "4      0.040236  0.088978  0.290556  0.042002  0.16037  0.018043  0.160606  "
      ]
     },
     "execution_count": 15,
     "metadata": {},
     "output_type": "execute_result"
    }
   ],
   "source": [
    "# Merge\n",
    "df = metadata.merge(intensity, left_on=\"movie_id\", right_on=\"Movie ID\", how=\"inner\").drop(columns=[\"Movie ID\"])\n",
    "print(\"Number of movies with intensity scores: {}\".format(len(df.movie_id.unique())))\n",
    "df = df[~df.revenue.isna()]\n",
    "print(\"Number of movies with intensity scores, and revenue: {}\".format(len(df.movie_id.unique())))\n",
    "\n",
    "# Normalize revenues to the range [0, 1]\n",
    "def minmax_normalize_df(df, columns):\n",
    "    df_norm = df.copy()\n",
    "    for column in columns:\n",
    "        df_norm[column] = (df_norm[column] - df_norm[column].min()) / (df_norm[column].max() - df_norm[column].min())\n",
    "    return df_norm\n",
    "\n",
    "df = minmax_normalize_df(df, [\"revenue\"])\n",
    "df.head()"
   ]
  },
  {
   "cell_type": "markdown",
   "id": "8bc5444f-4dbe-47e3-9d19-e8e3490717db",
   "metadata": {},
   "source": [
    "There exist a total of 364 genres in the original movie metadata, some of which may not be meaningful. We focus on the top-10 genres that appear most frequent in the metadata."
   ]
  },
  {
   "cell_type": "code",
   "execution_count": 10,
   "id": "30cc56b5-b066-4a68-a19d-a011c2236da3",
   "metadata": {
    "tags": []
   },
   "outputs": [
    {
     "name": "stdout",
     "output_type": "stream",
     "text": [
      "['Drama', 'Comedy', 'Romance Film', 'Thriller', 'Action', 'World cinema', 'Crime Fiction', 'Horror', 'Black-and-white', 'Indie']\n"
     ]
    }
   ],
   "source": [
    "top10_genres = list(summary_metadata.groupby(\"genre\").size().sort_values(ascending=False)[:10].index)\n",
    "print(top10_genres)"
   ]
  },
  {
   "cell_type": "markdown",
   "id": "d0bc1a0d-290f-42dd-8353-a9672ae437fa",
   "metadata": {},
   "source": [
    "OLS regression is performed for each genre on the box office revenue with the intensity score of 8 emotions as independent variables. Note that we consider **all** movies that are labeled with each genre. The number of movies per genre varies from 294 to 3953. The adjusted $R^2$ is generally very low, with a maximum of 0.031 for the *Crime Fiction* genre. "
   ]
  },
  {
   "cell_type": "code",
   "execution_count": 9,
   "id": "df9b97c4-d6b7-4334-a14e-4b9b508b7730",
   "metadata": {
    "tags": []
   },
   "outputs": [
    {
     "name": "stdout",
     "output_type": "stream",
     "text": [
      "Drama          : adj. R-square = 0.009, num. movies = 3953\n",
      "Comedy         : adj. R-square = 0.009, num. movies = 2944\n",
      "Romance Film   : adj. R-square = 0.003, num. movies = 1863\n",
      "Thriller       : adj. R-square = 0.016, num. movies = 1877\n",
      "Action         : adj. R-square = 0.008, num. movies = 1657\n",
      "World cinema   : adj. R-square = 0.002, num. movies = 522\n",
      "Crime Fiction  : adj. R-square = 0.031, num. movies = 1187\n",
      "Horror         : adj. R-square = 0.005, num. movies = 749\n",
      "Black-and-white: adj. R-square = 0.004, num. movies = 294\n",
      "Indie          : adj. R-square = 0.020, num. movies = 946\n"
     ]
    }
   ],
   "source": [
    "# OLS regression\n",
    "params = {}\n",
    "pvalues = {}\n",
    "stats = []\n",
    "\n",
    "for genre in top10_genres:\n",
    "    df_group = df.groupby(\"genre\").get_group(genre)\n",
    "    mod = smf.ols(formula=\"revenue ~ anger + anticipation + disgust + fear + joy + sadness + surprise + trust\",\n",
    "                    data=df_group)\n",
    "    res = mod.fit()\n",
    "    params[genre] = res.params.iloc[1:]\n",
    "    pvalues[genre] = res.pvalues.iloc[1:]\n",
    "    stats.append({\"genre\": genre, \"adj. R-square\": res.rsquared_adj, \"num. movies\": len(df_group)})\n",
    "    \n",
    "for item in stats:\n",
    "    print(\"{:<15}: adj. R-square = {:.3f}, num. movies = {}\".format(\n",
    "        item[\"genre\"], item[\"adj. R-square\"], item[\"num. movies\"]))"
   ]
  },
  {
   "cell_type": "code",
   "execution_count": 10,
   "id": "87cfdd4f-db2f-4179-bb29-7b941a2d9819",
   "metadata": {
    "tags": []
   },
   "outputs": [
    {
     "data": {
      "text/html": [
       "<div>\n",
       "<style scoped>\n",
       "    .dataframe tbody tr th:only-of-type {\n",
       "        vertical-align: middle;\n",
       "    }\n",
       "\n",
       "    .dataframe tbody tr th {\n",
       "        vertical-align: top;\n",
       "    }\n",
       "\n",
       "    .dataframe thead th {\n",
       "        text-align: right;\n",
       "    }\n",
       "</style>\n",
       "<table border=\"1\" class=\"dataframe\">\n",
       "  <thead>\n",
       "    <tr style=\"text-align: right;\">\n",
       "      <th></th>\n",
       "      <th>Drama</th>\n",
       "      <th>Comedy</th>\n",
       "      <th>Romance Film</th>\n",
       "      <th>Thriller</th>\n",
       "      <th>Action</th>\n",
       "      <th>World cinema</th>\n",
       "      <th>Crime Fiction</th>\n",
       "      <th>Horror</th>\n",
       "      <th>Black-and-white</th>\n",
       "      <th>Indie</th>\n",
       "    </tr>\n",
       "  </thead>\n",
       "  <tbody>\n",
       "    <tr>\n",
       "      <th>anger</th>\n",
       "      <td>0.013994</td>\n",
       "      <td>-0.000523</td>\n",
       "      <td>0.025216</td>\n",
       "      <td>0.024438</td>\n",
       "      <td>-0.033851</td>\n",
       "      <td>0.018915</td>\n",
       "      <td>-0.005608</td>\n",
       "      <td>-0.000258</td>\n",
       "      <td>-0.033946</td>\n",
       "      <td>0.021130</td>\n",
       "    </tr>\n",
       "    <tr>\n",
       "      <th>anticipation</th>\n",
       "      <td>0.007767</td>\n",
       "      <td>0.016708</td>\n",
       "      <td>0.020737</td>\n",
       "      <td>0.038918</td>\n",
       "      <td>0.065189</td>\n",
       "      <td>0.008619</td>\n",
       "      <td>0.049545</td>\n",
       "      <td>0.014352</td>\n",
       "      <td>-0.001271</td>\n",
       "      <td>-0.002583</td>\n",
       "    </tr>\n",
       "    <tr>\n",
       "      <th>disgust</th>\n",
       "      <td>-0.034135</td>\n",
       "      <td>-0.022357</td>\n",
       "      <td>-0.020470</td>\n",
       "      <td>-0.159736</td>\n",
       "      <td>-0.120932</td>\n",
       "      <td>-0.001965</td>\n",
       "      <td>-0.156167</td>\n",
       "      <td>-0.067283</td>\n",
       "      <td>0.022074</td>\n",
       "      <td>0.009238</td>\n",
       "    </tr>\n",
       "    <tr>\n",
       "      <th>fear</th>\n",
       "      <td>0.030403</td>\n",
       "      <td>0.029579</td>\n",
       "      <td>0.021772</td>\n",
       "      <td>0.064958</td>\n",
       "      <td>0.025908</td>\n",
       "      <td>0.002808</td>\n",
       "      <td>0.042363</td>\n",
       "      <td>0.050952</td>\n",
       "      <td>0.006814</td>\n",
       "      <td>0.013794</td>\n",
       "    </tr>\n",
       "    <tr>\n",
       "      <th>joy</th>\n",
       "      <td>-0.009697</td>\n",
       "      <td>-0.006787</td>\n",
       "      <td>-0.010993</td>\n",
       "      <td>-0.027629</td>\n",
       "      <td>-0.041489</td>\n",
       "      <td>-0.004265</td>\n",
       "      <td>-0.036290</td>\n",
       "      <td>0.040390</td>\n",
       "      <td>-0.000874</td>\n",
       "      <td>0.004347</td>\n",
       "    </tr>\n",
       "    <tr>\n",
       "      <th>sadness</th>\n",
       "      <td>-0.006714</td>\n",
       "      <td>-0.009300</td>\n",
       "      <td>-0.020705</td>\n",
       "      <td>-0.000568</td>\n",
       "      <td>0.087074</td>\n",
       "      <td>-0.011144</td>\n",
       "      <td>0.033184</td>\n",
       "      <td>0.000304</td>\n",
       "      <td>0.015110</td>\n",
       "      <td>-0.022576</td>\n",
       "    </tr>\n",
       "    <tr>\n",
       "      <th>surprise</th>\n",
       "      <td>0.023515</td>\n",
       "      <td>0.035128</td>\n",
       "      <td>0.011890</td>\n",
       "      <td>0.044268</td>\n",
       "      <td>0.061759</td>\n",
       "      <td>0.004930</td>\n",
       "      <td>0.074091</td>\n",
       "      <td>-0.018960</td>\n",
       "      <td>-0.004519</td>\n",
       "      <td>-0.005282</td>\n",
       "    </tr>\n",
       "    <tr>\n",
       "      <th>trust</th>\n",
       "      <td>-0.011790</td>\n",
       "      <td>-0.023314</td>\n",
       "      <td>-0.010978</td>\n",
       "      <td>0.024892</td>\n",
       "      <td>-0.018304</td>\n",
       "      <td>-0.010459</td>\n",
       "      <td>0.007889</td>\n",
       "      <td>-0.011992</td>\n",
       "      <td>-0.000483</td>\n",
       "      <td>-0.012419</td>\n",
       "    </tr>\n",
       "  </tbody>\n",
       "</table>\n",
       "</div>"
      ],
      "text/plain": [
       "                 Drama    Comedy  Romance Film  Thriller    Action  \\\n",
       "anger         0.013994 -0.000523      0.025216  0.024438 -0.033851   \n",
       "anticipation  0.007767  0.016708      0.020737  0.038918  0.065189   \n",
       "disgust      -0.034135 -0.022357     -0.020470 -0.159736 -0.120932   \n",
       "fear          0.030403  0.029579      0.021772  0.064958  0.025908   \n",
       "joy          -0.009697 -0.006787     -0.010993 -0.027629 -0.041489   \n",
       "sadness      -0.006714 -0.009300     -0.020705 -0.000568  0.087074   \n",
       "surprise      0.023515  0.035128      0.011890  0.044268  0.061759   \n",
       "trust        -0.011790 -0.023314     -0.010978  0.024892 -0.018304   \n",
       "\n",
       "              World cinema  Crime Fiction    Horror  Black-and-white     Indie  \n",
       "anger             0.018915      -0.005608 -0.000258        -0.033946  0.021130  \n",
       "anticipation      0.008619       0.049545  0.014352        -0.001271 -0.002583  \n",
       "disgust          -0.001965      -0.156167 -0.067283         0.022074  0.009238  \n",
       "fear              0.002808       0.042363  0.050952         0.006814  0.013794  \n",
       "joy              -0.004265      -0.036290  0.040390        -0.000874  0.004347  \n",
       "sadness          -0.011144       0.033184  0.000304         0.015110 -0.022576  \n",
       "surprise          0.004930       0.074091 -0.018960        -0.004519 -0.005282  \n",
       "trust            -0.010459       0.007889 -0.011992        -0.000483 -0.012419  "
      ]
     },
     "execution_count": 10,
     "metadata": {},
     "output_type": "execute_result"
    }
   ],
   "source": [
    "df_params = pd.DataFrame.from_dict(params)\n",
    "df_params"
   ]
  },
  {
   "cell_type": "code",
   "execution_count": 11,
   "id": "0d583a82-5170-4c9e-a9dd-02ce23c830ce",
   "metadata": {
    "tags": []
   },
   "outputs": [
    {
     "data": {
      "text/html": [
       "<div>\n",
       "<style scoped>\n",
       "    .dataframe tbody tr th:only-of-type {\n",
       "        vertical-align: middle;\n",
       "    }\n",
       "\n",
       "    .dataframe tbody tr th {\n",
       "        vertical-align: top;\n",
       "    }\n",
       "\n",
       "    .dataframe thead th {\n",
       "        text-align: right;\n",
       "    }\n",
       "</style>\n",
       "<table border=\"1\" class=\"dataframe\">\n",
       "  <thead>\n",
       "    <tr style=\"text-align: right;\">\n",
       "      <th></th>\n",
       "      <th>Drama</th>\n",
       "      <th>Comedy</th>\n",
       "      <th>Romance Film</th>\n",
       "      <th>Thriller</th>\n",
       "      <th>Action</th>\n",
       "      <th>World cinema</th>\n",
       "      <th>Crime Fiction</th>\n",
       "      <th>Horror</th>\n",
       "      <th>Black-and-white</th>\n",
       "      <th>Indie</th>\n",
       "    </tr>\n",
       "  </thead>\n",
       "  <tbody>\n",
       "    <tr>\n",
       "      <th>anger</th>\n",
       "      <td>0.281028</td>\n",
       "      <td>0.974197</td>\n",
       "      <td>0.239512</td>\n",
       "      <td>0.371609</td>\n",
       "      <td>0.317989</td>\n",
       "      <td>0.177738</td>\n",
       "      <td>8.109314e-01</td>\n",
       "      <td>0.993422</td>\n",
       "      <td>0.026143</td>\n",
       "      <td>0.058296</td>\n",
       "    </tr>\n",
       "    <tr>\n",
       "      <th>anticipation</th>\n",
       "      <td>0.445701</td>\n",
       "      <td>0.174351</td>\n",
       "      <td>0.144865</td>\n",
       "      <td>0.107704</td>\n",
       "      <td>0.058443</td>\n",
       "      <td>0.470196</td>\n",
       "      <td>3.996706e-02</td>\n",
       "      <td>0.602353</td>\n",
       "      <td>0.908318</td>\n",
       "      <td>0.738994</td>\n",
       "    </tr>\n",
       "    <tr>\n",
       "      <th>disgust</th>\n",
       "      <td>0.054903</td>\n",
       "      <td>0.263761</td>\n",
       "      <td>0.486011</td>\n",
       "      <td>0.000004</td>\n",
       "      <td>0.005587</td>\n",
       "      <td>0.915295</td>\n",
       "      <td>1.269447e-07</td>\n",
       "      <td>0.035290</td>\n",
       "      <td>0.214643</td>\n",
       "      <td>0.533939</td>\n",
       "    </tr>\n",
       "    <tr>\n",
       "      <th>fear</th>\n",
       "      <td>0.006677</td>\n",
       "      <td>0.018342</td>\n",
       "      <td>0.211094</td>\n",
       "      <td>0.002342</td>\n",
       "      <td>0.402370</td>\n",
       "      <td>0.815493</td>\n",
       "      <td>2.506159e-02</td>\n",
       "      <td>0.013437</td>\n",
       "      <td>0.567816</td>\n",
       "      <td>0.132468</td>\n",
       "    </tr>\n",
       "    <tr>\n",
       "      <th>joy</th>\n",
       "      <td>0.190675</td>\n",
       "      <td>0.426327</td>\n",
       "      <td>0.320568</td>\n",
       "      <td>0.203255</td>\n",
       "      <td>0.145288</td>\n",
       "      <td>0.618910</td>\n",
       "      <td>4.608479e-02</td>\n",
       "      <td>0.092979</td>\n",
       "      <td>0.927328</td>\n",
       "      <td>0.438475</td>\n",
       "    </tr>\n",
       "    <tr>\n",
       "      <th>sadness</th>\n",
       "      <td>0.600041</td>\n",
       "      <td>0.540223</td>\n",
       "      <td>0.271225</td>\n",
       "      <td>0.983923</td>\n",
       "      <td>0.022049</td>\n",
       "      <td>0.402839</td>\n",
       "      <td>1.746756e-01</td>\n",
       "      <td>0.991432</td>\n",
       "      <td>0.273332</td>\n",
       "      <td>0.019725</td>\n",
       "    </tr>\n",
       "    <tr>\n",
       "      <th>surprise</th>\n",
       "      <td>0.140712</td>\n",
       "      <td>0.053694</td>\n",
       "      <td>0.602282</td>\n",
       "      <td>0.181278</td>\n",
       "      <td>0.173594</td>\n",
       "      <td>0.765052</td>\n",
       "      <td>1.753336e-02</td>\n",
       "      <td>0.596312</td>\n",
       "      <td>0.789209</td>\n",
       "      <td>0.667818</td>\n",
       "    </tr>\n",
       "    <tr>\n",
       "      <th>trust</th>\n",
       "      <td>0.079642</td>\n",
       "      <td>0.002360</td>\n",
       "      <td>0.282577</td>\n",
       "      <td>0.143995</td>\n",
       "      <td>0.384204</td>\n",
       "      <td>0.160803</td>\n",
       "      <td>5.789520e-01</td>\n",
       "      <td>0.547561</td>\n",
       "      <td>0.952198</td>\n",
       "      <td>0.024008</td>\n",
       "    </tr>\n",
       "  </tbody>\n",
       "</table>\n",
       "</div>"
      ],
      "text/plain": [
       "                 Drama    Comedy  Romance Film  Thriller    Action  \\\n",
       "anger         0.281028  0.974197      0.239512  0.371609  0.317989   \n",
       "anticipation  0.445701  0.174351      0.144865  0.107704  0.058443   \n",
       "disgust       0.054903  0.263761      0.486011  0.000004  0.005587   \n",
       "fear          0.006677  0.018342      0.211094  0.002342  0.402370   \n",
       "joy           0.190675  0.426327      0.320568  0.203255  0.145288   \n",
       "sadness       0.600041  0.540223      0.271225  0.983923  0.022049   \n",
       "surprise      0.140712  0.053694      0.602282  0.181278  0.173594   \n",
       "trust         0.079642  0.002360      0.282577  0.143995  0.384204   \n",
       "\n",
       "              World cinema  Crime Fiction    Horror  Black-and-white     Indie  \n",
       "anger             0.177738   8.109314e-01  0.993422         0.026143  0.058296  \n",
       "anticipation      0.470196   3.996706e-02  0.602353         0.908318  0.738994  \n",
       "disgust           0.915295   1.269447e-07  0.035290         0.214643  0.533939  \n",
       "fear              0.815493   2.506159e-02  0.013437         0.567816  0.132468  \n",
       "joy               0.618910   4.608479e-02  0.092979         0.927328  0.438475  \n",
       "sadness           0.402839   1.746756e-01  0.991432         0.273332  0.019725  \n",
       "surprise          0.765052   1.753336e-02  0.596312         0.789209  0.667818  \n",
       "trust             0.160803   5.789520e-01  0.547561         0.952198  0.024008  "
      ]
     },
     "execution_count": 11,
     "metadata": {},
     "output_type": "execute_result"
    }
   ],
   "source": [
    "df_pvalues = pd.DataFrame.from_dict(pvalues)\n",
    "df_pvalues"
   ]
  },
  {
   "cell_type": "markdown",
   "id": "16ee7809-92aa-434f-a510-63e2ef53d749",
   "metadata": {},
   "source": [
    "The heatmap shows the OLS regression coefficients for each emotion and each genre. Note that for some of the coefficients, we cannot reject the null hypothesis that they are equal to zero, as indicated by the $p$-value table."
   ]
  },
  {
   "cell_type": "code",
   "execution_count": 12,
   "id": "9510651f-5115-4d48-9ad4-bdff9e9839fe",
   "metadata": {
    "tags": []
   },
   "outputs": [
    {
     "data": {
      "image/png": "[encoded data removed]",
      "text/plain": [
       "<Figure size 640x480 with 2 Axes>"
      ]
     },
     "metadata": {},
     "output_type": "display_data"
    }
   ],
   "source": [
    "plt.figure()\n",
    "ax = sns.heatmap(df_params, annot=True, center=0., cmap=\"vlag\", fmt='.3f', annot_kws={\"fontsize\":9})\n",
    "ax.set(xlabel=\"Genre\", ylabel=\"Emotion\")\n",
    "plt.axis('equal')\n",
    "plt.show()"
   ]
  },
  {
   "cell_type": "markdown",
   "id": "e382dafa-0dfe-4b54-bf00-e12ddae1d750",
   "metadata": {},
   "source": [
    "To draw a valid conclusion on the relationship between box office revenue and emotion intensities, we filter the regression coefficients by the associated $p$-value with threshold 0.05. The filtered heatmap shows a negative effect of the emotion *disgust* on box office revenue of *Thriller*, *Action*, *Crime Fiction*, and *Horror* movies, while increasing intensity of *fear* is associated with higher box office revenue for *Drama*, *Comedy*, *Thriller*, *Crime Fiction*, and *Horror* movies. The intensity of other emotions also exihibit significant relationship with the box office revenue of a few genres."
   ]
  },
  {
   "cell_type": "code",
   "execution_count": 14,
   "id": "e16ad96c-9cb4-41d9-9b8e-56d14bd4b797",
   "metadata": {
    "tags": []
   },
   "outputs": [],
   "source": [
    "# Plot heatmap only for coefficients with p-value < 0.05\n",
    "df_heatmap = df_params.copy()\n",
    "mask = df_pvalues < 0.05\n",
    "df_heatmap = df_heatmap[mask]"
   ]
  },
  {
   "cell_type": "code",
   "execution_count": 15,
   "id": "da695025-7aa5-4195-8854-3c74144c88c9",
   "metadata": {
    "tags": []
   },
   "outputs": [
    {
     "data": {
      "image/png": "[encoded data removed]",
      "text/plain": [
       "<Figure size 640x480 with 2 Axes>"
      ]
     },
     "metadata": {},
     "output_type": "display_data"
    }
   ],
   "source": [
    "plt.figure()\n",
    "ax = sns.heatmap(df_heatmap, annot=True, center=0., cmap=\"vlag\", fmt='.3f', annot_kws={\"fontsize\":9})\n",
    "ax.set(xlabel=\"Genre\", ylabel=\"Emotion\")\n",
    "plt.axis('equal')\n",
    "plt.show()"
   ]
  },
  {
   "cell_type": "markdown",
   "id": "9bd2f8ce-2122-4299-86a0-315f22dfca02",
   "metadata": {},
   "source": [
    "The regression analysis is repeated considering only the **first** genre associated with each movie. Much fewer movies are retained for this analysis and the number of movies for *Action*, *World cinema*, *Black-and-White*, and *Indie* may not be representative."
   ]
  },
  {
   "cell_type": "code",
   "execution_count": 20,
   "id": "ad9994ab-9d0b-4eaf-bdfa-772b3ec20b1e",
   "metadata": {
    "tags": []
   },
   "outputs": [
    {
     "name": "stdout",
     "output_type": "stream",
     "text": [
      "Drama          : adj. R-square = 0.000, num. movies = 517\n",
      "Comedy         : adj. R-square = 0.094, num. movies = 126\n",
      "Romance Film   : adj. R-square = -0.007, num. movies = 184\n",
      "Thriller       : adj. R-square = 0.014, num. movies = 1509\n",
      "Action         : adj. R-square = -0.072, num. movies = 54\n",
      "World cinema   : adj. R-square = -0.064, num. movies = 39\n",
      "Crime Fiction  : adj. R-square = 0.014, num. movies = 676\n",
      "Horror         : adj. R-square = 0.025, num. movies = 106\n",
      "Black-and-white: adj. R-square = 0.149, num. movies = 11\n",
      "Indie          : adj. R-square = 0.037, num. movies = 78\n"
     ]
    }
   ],
   "source": [
    "# Retain the first genre for each movie, assume it is the main genre\n",
    "df = df.drop_duplicates(\"movie_id\")\n",
    "\n",
    "# OLS regression\n",
    "params = {}\n",
    "pvalues = {}\n",
    "stats = []\n",
    "\n",
    "for genre in top10_genres:\n",
    "    df_group = df.groupby(\"genre\").get_group(genre)\n",
    "    mod = smf.ols(formula=\"revenue ~ anger + anticipation + disgust + fear + joy + sadness + surprise + trust\",\n",
    "                    data=df_group)\n",
    "    res = mod.fit()\n",
    "    params[genre] = res.params.iloc[1:]\n",
    "    pvalues[genre] = res.pvalues.iloc[1:]\n",
    "    stats.append({\"genre\": genre, \"adj. R-square\": res.rsquared_adj, \"num. movies\": len(df_group)})\n",
    "    \n",
    "for item in stats:\n",
    "    print(\"{:<15}: adj. R-square = {:.3f}, num. movies = {}\".format(\n",
    "        item[\"genre\"], item[\"adj. R-square\"], item[\"num. movies\"]))\n",
    "\n",
    "df_params = pd.DataFrame.from_dict(params)\n",
    "df_pvalues = pd.DataFrame.from_dict(pvalues)"
   ]
  },
  {
   "cell_type": "code",
   "execution_count": 21,
   "id": "c986616d-a11a-49d4-a541-ca2572c5db58",
   "metadata": {
    "tags": []
   },
   "outputs": [
    {
     "data": {
      "image/png": "[encoded data removed]",
      "text/plain": [
       "<Figure size 640x480 with 2 Axes>"
      ]
     },
     "metadata": {},
     "output_type": "display_data"
    }
   ],
   "source": [
    "plt.figure()\n",
    "ax = sns.heatmap(df_params, annot=True, center=0., cmap=\"vlag\", fmt='.3f', annot_kws={\"fontsize\":9})\n",
    "ax.set(xlabel=\"Genre\", ylabel=\"Emotion\")\n",
    "plt.axis('equal')\n",
    "plt.show()"
   ]
  },
  {
   "cell_type": "markdown",
   "id": "dc455530-99f1-4de0-84ee-cc3cc7e8ff5d",
   "metadata": {},
   "source": [
    "Few regression coefficients are deemed significant by a $p$-value threshold of 0.05. There is still a negative relationship between *disgust* and box office revenue for *Thriller*, *Crime Fiction*, and *Horror*, but now *disgust* also appears to have a positive relationship with the box office revenue of *Comedy*. *Joy* is positively linked with the revenue of *Horror*. The positive relationship between *fear* and revenue of *Thriller*, *surprise* and *Crime Fiction* are similar to the previous analysis."
   ]
  },
  {
   "cell_type": "code",
   "execution_count": 22,
   "id": "b6942d2c-9ae6-42f5-9a38-79528d3ad512",
   "metadata": {
    "tags": []
   },
   "outputs": [
    {
     "data": {
      "image/png": "[encoded data removed]",
      "text/plain": [
       "<Figure size 640x480 with 2 Axes>"
      ]
     },
     "metadata": {},
     "output_type": "display_data"
    }
   ],
   "source": [
    "# Plot heatmap only for coefficients with p-value < 0.05\n",
    "df_heatmap = df_params.copy()\n",
    "mask = df_pvalues < 0.05\n",
    "df_heatmap = df_heatmap[mask]\n",
    "\n",
    "plt.figure()\n",
    "ax = sns.heatmap(df_heatmap, annot=True, center=0., cmap=\"vlag\", fmt='.3f', annot_kws={\"fontsize\":9})\n",
    "ax.set(xlabel=\"Genre\", ylabel=\"Emotion\")\n",
    "plt.axis('equal')\n",
    "plt.show()"
   ]
  },
  {
   "cell_type": "code",
   "execution_count": 1,
   "id": "72d0d2e5-2657-41c4-ab71-a647e0e7371f",
   "metadata": {},
   "outputs": [],
   "source": [
    "import pandas as pd"
   ]
  },
  {
   "cell_type": "code",
   "execution_count": 2,
   "id": "8e4c234e-fc7f-4efb-b0ef-eb24964781cc",
   "metadata": {},
   "outputs": [],
   "source": [
    "# summaries: preprocessed plot summaries from CMU Movie Summary Corpus\n",
    "summaries = pd.read_csv(\"./generated/summaries.csv\")"
   ]
  },
  {
   "cell_type": "code",
   "execution_count": 3,
   "id": "e78351d7-25d4-4a57-a605-48ad1f92a5bf",
   "metadata": {
    "tags": []
   },
   "outputs": [
    {
     "data": {
      "text/html": [
       "<div>\n",
       "<style scoped>\n",
       "    .dataframe tbody tr th:only-of-type {\n",
       "        vertical-align: middle;\n",
       "    }\n",
       "\n",
       "    .dataframe tbody tr th {\n",
       "        vertical-align: top;\n",
       "    }\n",
       "\n",
       "    .dataframe thead th {\n",
       "        text-align: right;\n",
       "    }\n",
       "</style>\n",
       "<table border=\"1\" class=\"dataframe\">\n",
       "  <thead>\n",
       "    <tr style=\"text-align: right;\">\n",
       "      <th></th>\n",
       "      <th>userId</th>\n",
       "      <th>movieId</th>\n",
       "      <th>rating</th>\n",
       "      <th>timestamp</th>\n",
       "    </tr>\n",
       "  </thead>\n",
       "  <tbody>\n",
       "    <tr>\n",
       "      <th>0</th>\n",
       "      <td>1</td>\n",
       "      <td>110</td>\n",
       "      <td>1.0</td>\n",
       "      <td>1425941529</td>\n",
       "    </tr>\n",
       "    <tr>\n",
       "      <th>1</th>\n",
       "      <td>1</td>\n",
       "      <td>147</td>\n",
       "      <td>4.5</td>\n",
       "      <td>1425942435</td>\n",
       "    </tr>\n",
       "    <tr>\n",
       "      <th>2</th>\n",
       "      <td>1</td>\n",
       "      <td>858</td>\n",
       "      <td>5.0</td>\n",
       "      <td>1425941523</td>\n",
       "    </tr>\n",
       "    <tr>\n",
       "      <th>3</th>\n",
       "      <td>1</td>\n",
       "      <td>1221</td>\n",
       "      <td>5.0</td>\n",
       "      <td>1425941546</td>\n",
       "    </tr>\n",
       "    <tr>\n",
       "      <th>4</th>\n",
       "      <td>1</td>\n",
       "      <td>1246</td>\n",
       "      <td>5.0</td>\n",
       "      <td>1425941556</td>\n",
       "    </tr>\n",
       "  </tbody>\n",
       "</table>\n",
       "</div>"
      ],
      "text/plain": [
       "   userId  movieId  rating   timestamp\n",
       "0       1      110     1.0  1425941529\n",
       "1       1      147     4.5  1425942435\n",
       "2       1      858     5.0  1425941523\n",
       "3       1     1221     5.0  1425941546\n",
       "4       1     1246     5.0  1425941556"
      ]
     },
     "execution_count": 3,
     "metadata": {},
     "output_type": "execute_result"
    }
   ],
   "source": [
    "# ratings: movie ratings from Kaggle Movies Dataset\n",
    "ratings = pd.read_csv(\"./data/ratings.csv\")\n",
    "ratings.head()"
   ]
  },
  {
   "cell_type": "code",
   "execution_count": 4,
   "id": "495776f7-f57a-440e-abba-299af616eaae",
   "metadata": {
    "tags": []
   },
   "outputs": [
    {
     "data": {
      "text/html": [
       "<div>\n",
       "<style scoped>\n",
       "    .dataframe tbody tr th:only-of-type {\n",
       "        vertical-align: middle;\n",
       "    }\n",
       "\n",
       "    .dataframe tbody tr th {\n",
       "        vertical-align: top;\n",
       "    }\n",
       "\n",
       "    .dataframe thead th {\n",
       "        text-align: right;\n",
       "    }\n",
       "</style>\n",
       "<table border=\"1\" class=\"dataframe\">\n",
       "  <thead>\n",
       "    <tr style=\"text-align: right;\">\n",
       "      <th></th>\n",
       "      <th>movieId</th>\n",
       "      <th>imdbId</th>\n",
       "      <th>tmdbId</th>\n",
       "    </tr>\n",
       "  </thead>\n",
       "  <tbody>\n",
       "    <tr>\n",
       "      <th>0</th>\n",
       "      <td>1</td>\n",
       "      <td>114709</td>\n",
       "      <td>862.0</td>\n",
       "    </tr>\n",
       "    <tr>\n",
       "      <th>1</th>\n",
       "      <td>2</td>\n",
       "      <td>113497</td>\n",
       "      <td>8844.0</td>\n",
       "    </tr>\n",
       "    <tr>\n",
       "      <th>2</th>\n",
       "      <td>3</td>\n",
       "      <td>113228</td>\n",
       "      <td>15602.0</td>\n",
       "    </tr>\n",
       "    <tr>\n",
       "      <th>3</th>\n",
       "      <td>4</td>\n",
       "      <td>114885</td>\n",
       "      <td>31357.0</td>\n",
       "    </tr>\n",
       "    <tr>\n",
       "      <th>4</th>\n",
       "      <td>5</td>\n",
       "      <td>113041</td>\n",
       "      <td>11862.0</td>\n",
       "    </tr>\n",
       "  </tbody>\n",
       "</table>\n",
       "</div>"
      ],
      "text/plain": [
       "   movieId  imdbId   tmdbId\n",
       "0        1  114709    862.0\n",
       "1        2  113497   8844.0\n",
       "2        3  113228  15602.0\n",
       "3        4  114885  31357.0\n",
       "4        5  113041  11862.0"
      ]
     },
     "execution_count": 4,
     "metadata": {},
     "output_type": "execute_result"
    }
   ],
   "source": [
    "# links: mapping between movie identifiers from Kaggle Movies Dataset\n",
    "links = pd.read_csv(\"./data/links.csv\")\n",
    "links.head()"
   ]
  },
  {
   "cell_type": "code",
   "execution_count": 5,
   "id": "57b77294-a938-4248-9aeb-e5d5686f592b",
   "metadata": {
    "tags": []
   },
   "outputs": [
    {
     "name": "stderr",
     "output_type": "stream",
     "text": [
      "C:\\Users\\Zhang\\AppData\\Local\\Temp\\ipykernel_7772\\158361551.py:2: DtypeWarning: Columns (10) have mixed types. Specify dtype option on import or set low_memory=False.\n",
      "  additional = pd.read_csv(\"./data/movies_metadata.csv\")\n"
     ]
    },
    {
     "data": {
      "text/html": [
       "<div>\n",
       "<style scoped>\n",
       "    .dataframe tbody tr th:only-of-type {\n",
       "        vertical-align: middle;\n",
       "    }\n",
       "\n",
       "    .dataframe tbody tr th {\n",
       "        vertical-align: top;\n",
       "    }\n",
       "\n",
       "    .dataframe thead th {\n",
       "        text-align: right;\n",
       "    }\n",
       "</style>\n",
       "<table border=\"1\" class=\"dataframe\">\n",
       "  <thead>\n",
       "    <tr style=\"text-align: right;\">\n",
       "      <th></th>\n",
       "      <th>adult</th>\n",
       "      <th>belongs_to_collection</th>\n",
       "      <th>budget</th>\n",
       "      <th>genres</th>\n",
       "      <th>homepage</th>\n",
       "      <th>id</th>\n",
       "      <th>imdb_id</th>\n",
       "      <th>original_language</th>\n",
       "      <th>original_title</th>\n",
       "      <th>overview</th>\n",
       "      <th>...</th>\n",
       "      <th>release_date</th>\n",
       "      <th>revenue</th>\n",
       "      <th>runtime</th>\n",
       "      <th>spoken_languages</th>\n",
       "      <th>status</th>\n",
       "      <th>tagline</th>\n",
       "      <th>title</th>\n",
       "      <th>video</th>\n",
       "      <th>vote_average</th>\n",
       "      <th>vote_count</th>\n",
       "    </tr>\n",
       "  </thead>\n",
       "  <tbody>\n",
       "    <tr>\n",
       "      <th>0</th>\n",
       "      <td>False</td>\n",
       "      <td>{'id': 10194, 'name': 'Toy Story Collection', ...</td>\n",
       "      <td>30000000</td>\n",
       "      <td>[{'id': 16, 'name': 'Animation'}, {'id': 35, '...</td>\n",
       "      <td>http://toystory.disney.com/toy-story</td>\n",
       "      <td>862</td>\n",
       "      <td>tt0114709</td>\n",
       "      <td>en</td>\n",
       "      <td>Toy Story</td>\n",
       "      <td>Led by Woody, Andy's toys live happily in his ...</td>\n",
       "      <td>...</td>\n",
       "      <td>1995-10-30</td>\n",
       "      <td>373554033.0</td>\n",
       "      <td>81.0</td>\n",
       "      <td>[{'iso_639_1': 'en', 'name': 'English'}]</td>\n",
       "      <td>Released</td>\n",
       "      <td>NaN</td>\n",
       "      <td>Toy Story</td>\n",
       "      <td>False</td>\n",
       "      <td>7.7</td>\n",
       "      <td>5415.0</td>\n",
       "    </tr>\n",
       "    <tr>\n",
       "      <th>1</th>\n",
       "      <td>False</td>\n",
       "      <td>NaN</td>\n",
       "      <td>65000000</td>\n",
       "      <td>[{'id': 12, 'name': 'Adventure'}, {'id': 14, '...</td>\n",
       "      <td>NaN</td>\n",
       "      <td>8844</td>\n",
       "      <td>tt0113497</td>\n",
       "      <td>en</td>\n",
       "      <td>Jumanji</td>\n",
       "      <td>When siblings Judy and Peter discover an encha...</td>\n",
       "      <td>...</td>\n",
       "      <td>1995-12-15</td>\n",
       "      <td>262797249.0</td>\n",
       "      <td>104.0</td>\n",
       "      <td>[{'iso_639_1': 'en', 'name': 'English'}, {'iso...</td>\n",
       "      <td>Released</td>\n",
       "      <td>Roll the dice and unleash the excitement!</td>\n",
       "      <td>Jumanji</td>\n",
       "      <td>False</td>\n",
       "      <td>6.9</td>\n",
       "      <td>2413.0</td>\n",
       "    </tr>\n",
       "    <tr>\n",
       "      <th>2</th>\n",
       "      <td>False</td>\n",
       "      <td>{'id': 119050, 'name': 'Grumpy Old Men Collect...</td>\n",
       "      <td>0</td>\n",
       "      <td>[{'id': 10749, 'name': 'Romance'}, {'id': 35, ...</td>\n",
       "      <td>NaN</td>\n",
       "      <td>15602</td>\n",
       "      <td>tt0113228</td>\n",
       "      <td>en</td>\n",
       "      <td>Grumpier Old Men</td>\n",
       "      <td>A family wedding reignites the ancient feud be...</td>\n",
       "      <td>...</td>\n",
       "      <td>1995-12-22</td>\n",
       "      <td>0.0</td>\n",
       "      <td>101.0</td>\n",
       "      <td>[{'iso_639_1': 'en', 'name': 'English'}]</td>\n",
       "      <td>Released</td>\n",
       "      <td>Still Yelling. Still Fighting. Still Ready for...</td>\n",
       "      <td>Grumpier Old Men</td>\n",
       "      <td>False</td>\n",
       "      <td>6.5</td>\n",
       "      <td>92.0</td>\n",
       "    </tr>\n",
       "    <tr>\n",
       "      <th>3</th>\n",
       "      <td>False</td>\n",
       "      <td>NaN</td>\n",
       "      <td>16000000</td>\n",
       "      <td>[{'id': 35, 'name': 'Comedy'}, {'id': 18, 'nam...</td>\n",
       "      <td>NaN</td>\n",
       "      <td>31357</td>\n",
       "      <td>tt0114885</td>\n",
       "      <td>en</td>\n",
       "      <td>Waiting to Exhale</td>\n",
       "      <td>Cheated on, mistreated and stepped on, the wom...</td>\n",
       "      <td>...</td>\n",
       "      <td>1995-12-22</td>\n",
       "      <td>81452156.0</td>\n",
       "      <td>127.0</td>\n",
       "      <td>[{'iso_639_1': 'en', 'name': 'English'}]</td>\n",
       "      <td>Released</td>\n",
       "      <td>Friends are the people who let you be yourself...</td>\n",
       "      <td>Waiting to Exhale</td>\n",
       "      <td>False</td>\n",
       "      <td>6.1</td>\n",
       "      <td>34.0</td>\n",
       "    </tr>\n",
       "    <tr>\n",
       "      <th>4</th>\n",
       "      <td>False</td>\n",
       "      <td>{'id': 96871, 'name': 'Father of the Bride Col...</td>\n",
       "      <td>0</td>\n",
       "      <td>[{'id': 35, 'name': 'Comedy'}]</td>\n",
       "      <td>NaN</td>\n",
       "      <td>11862</td>\n",
       "      <td>tt0113041</td>\n",
       "      <td>en</td>\n",
       "      <td>Father of the Bride Part II</td>\n",
       "      <td>Just when George Banks has recovered from his ...</td>\n",
       "      <td>...</td>\n",
       "      <td>1995-02-10</td>\n",
       "      <td>76578911.0</td>\n",
       "      <td>106.0</td>\n",
       "      <td>[{'iso_639_1': 'en', 'name': 'English'}]</td>\n",
       "      <td>Released</td>\n",
       "      <td>Just When His World Is Back To Normal... He's ...</td>\n",
       "      <td>Father of the Bride Part II</td>\n",
       "      <td>False</td>\n",
       "      <td>5.7</td>\n",
       "      <td>173.0</td>\n",
       "    </tr>\n",
       "  </tbody>\n",
       "</table>\n",
       "<p>5 rows × 24 columns</p>\n",
       "</div>"
      ],
      "text/plain": [
       "   adult                              belongs_to_collection    budget  \\\n",
       "0  False  {'id': 10194, 'name': 'Toy Story Collection', ...  30000000   \n",
       "1  False                                                NaN  65000000   \n",
       "2  False  {'id': 119050, 'name': 'Grumpy Old Men Collect...         0   \n",
       "3  False                                                NaN  16000000   \n",
       "4  False  {'id': 96871, 'name': 'Father of the Bride Col...         0   \n",
       "\n",
       "                                              genres  \\\n",
       "0  [{'id': 16, 'name': 'Animation'}, {'id': 35, '...   \n",
       "1  [{'id': 12, 'name': 'Adventure'}, {'id': 14, '...   \n",
       "2  [{'id': 10749, 'name': 'Romance'}, {'id': 35, ...   \n",
       "3  [{'id': 35, 'name': 'Comedy'}, {'id': 18, 'nam...   \n",
       "4                     [{'id': 35, 'name': 'Comedy'}]   \n",
       "\n",
       "                               homepage     id    imdb_id original_language  \\\n",
       "0  http://toystory.disney.com/toy-story    862  tt0114709                en   \n",
       "1                                   NaN   8844  tt0113497                en   \n",
       "2                                   NaN  15602  tt0113228                en   \n",
       "3                                   NaN  31357  tt0114885                en   \n",
       "4                                   NaN  11862  tt0113041                en   \n",
       "\n",
       "                original_title  \\\n",
       "0                    Toy Story   \n",
       "1                      Jumanji   \n",
       "2             Grumpier Old Men   \n",
       "3            Waiting to Exhale   \n",
       "4  Father of the Bride Part II   \n",
       "\n",
       "                                            overview  ... release_date  \\\n",
       "0  Led by Woody, Andy's toys live happily in his ...  ...   1995-10-30   \n",
       "1  When siblings Judy and Peter discover an encha...  ...   1995-12-15   \n",
       "2  A family wedding reignites the ancient feud be...  ...   1995-12-22   \n",
       "3  Cheated on, mistreated and stepped on, the wom...  ...   1995-12-22   \n",
       "4  Just when George Banks has recovered from his ...  ...   1995-02-10   \n",
       "\n",
       "       revenue runtime                                   spoken_languages  \\\n",
       "0  373554033.0    81.0           [{'iso_639_1': 'en', 'name': 'English'}]   \n",
       "1  262797249.0   104.0  [{'iso_639_1': 'en', 'name': 'English'}, {'iso...   \n",
       "2          0.0   101.0           [{'iso_639_1': 'en', 'name': 'English'}]   \n",
       "3   81452156.0   127.0           [{'iso_639_1': 'en', 'name': 'English'}]   \n",
       "4   76578911.0   106.0           [{'iso_639_1': 'en', 'name': 'English'}]   \n",
       "\n",
       "     status                                            tagline  \\\n",
       "0  Released                                                NaN   \n",
       "1  Released          Roll the dice and unleash the excitement!   \n",
       "2  Released  Still Yelling. Still Fighting. Still Ready for...   \n",
       "3  Released  Friends are the people who let you be yourself...   \n",
       "4  Released  Just When His World Is Back To Normal... He's ...   \n",
       "\n",
       "                         title  video vote_average vote_count  \n",
       "0                    Toy Story  False          7.7     5415.0  \n",
       "1                      Jumanji  False          6.9     2413.0  \n",
       "2             Grumpier Old Men  False          6.5       92.0  \n",
       "3            Waiting to Exhale  False          6.1       34.0  \n",
       "4  Father of the Bride Part II  False          5.7      173.0  \n",
       "\n",
       "[5 rows x 24 columns]"
      ]
     },
     "execution_count": 5,
     "metadata": {},
     "output_type": "execute_result"
    }
   ],
   "source": [
    "# additional: movie metadata from Kaggle Movies Dataset\n",
    "additional = pd.read_csv(\"./data/movies_metadata.csv\")\n",
    "additional.head()"
   ]
  },
  {
   "cell_type": "code",
   "execution_count": 6,
   "id": "ccd84829-8264-4284-9b40-599e87f751b1",
   "metadata": {
    "tags": []
   },
   "outputs": [
    {
     "data": {
      "text/html": [
       "<div>\n",
       "<style scoped>\n",
       "    .dataframe tbody tr th:only-of-type {\n",
       "        vertical-align: middle;\n",
       "    }\n",
       "\n",
       "    .dataframe tbody tr th {\n",
       "        vertical-align: top;\n",
       "    }\n",
       "\n",
       "    .dataframe thead th {\n",
       "        text-align: right;\n",
       "    }\n",
       "</style>\n",
       "<table border=\"1\" class=\"dataframe\">\n",
       "  <thead>\n",
       "    <tr style=\"text-align: right;\">\n",
       "      <th></th>\n",
       "      <th>movie_id</th>\n",
       "      <th>freebase_id</th>\n",
       "      <th>movie_name</th>\n",
       "      <th>date</th>\n",
       "      <th>BOrevenue</th>\n",
       "      <th>runtime</th>\n",
       "      <th>language</th>\n",
       "      <th>country</th>\n",
       "      <th>genre</th>\n",
       "    </tr>\n",
       "  </thead>\n",
       "  <tbody>\n",
       "    <tr>\n",
       "      <th>0</th>\n",
       "      <td>975900</td>\n",
       "      <td>/m/03vyhn</td>\n",
       "      <td>Ghosts of Mars</td>\n",
       "      <td>2001-08-24</td>\n",
       "      <td>14010832.0</td>\n",
       "      <td>98.0</td>\n",
       "      <td>{\"/m/02h40lc\": \"English Language\"}</td>\n",
       "      <td>{\"/m/09c7w0\": \"United States of America\"}</td>\n",
       "      <td>{\"/m/01jfsb\": \"Thriller\", \"/m/06n90\": \"Science...</td>\n",
       "    </tr>\n",
       "    <tr>\n",
       "      <th>1</th>\n",
       "      <td>3196793</td>\n",
       "      <td>/m/08yl5d</td>\n",
       "      <td>Getting Away with Murder: The JonBenét Ramsey ...</td>\n",
       "      <td>2000-02-16</td>\n",
       "      <td>NaN</td>\n",
       "      <td>95.0</td>\n",
       "      <td>{\"/m/02h40lc\": \"English Language\"}</td>\n",
       "      <td>{\"/m/09c7w0\": \"United States of America\"}</td>\n",
       "      <td>{\"/m/02n4kr\": \"Mystery\", \"/m/03bxz7\": \"Biograp...</td>\n",
       "    </tr>\n",
       "    <tr>\n",
       "      <th>2</th>\n",
       "      <td>28463795</td>\n",
       "      <td>/m/0crgdbh</td>\n",
       "      <td>Brun bitter</td>\n",
       "      <td>1988</td>\n",
       "      <td>NaN</td>\n",
       "      <td>83.0</td>\n",
       "      <td>{\"/m/05f_3\": \"Norwegian Language\"}</td>\n",
       "      <td>{\"/m/05b4w\": \"Norway\"}</td>\n",
       "      <td>{\"/m/0lsxr\": \"Crime Fiction\", \"/m/07s9rl0\": \"D...</td>\n",
       "    </tr>\n",
       "    <tr>\n",
       "      <th>3</th>\n",
       "      <td>9363483</td>\n",
       "      <td>/m/0285_cd</td>\n",
       "      <td>White Of The Eye</td>\n",
       "      <td>1987</td>\n",
       "      <td>NaN</td>\n",
       "      <td>110.0</td>\n",
       "      <td>{\"/m/02h40lc\": \"English Language\"}</td>\n",
       "      <td>{\"/m/07ssc\": \"United Kingdom\"}</td>\n",
       "      <td>{\"/m/01jfsb\": \"Thriller\", \"/m/0glj9q\": \"Erotic...</td>\n",
       "    </tr>\n",
       "    <tr>\n",
       "      <th>4</th>\n",
       "      <td>261236</td>\n",
       "      <td>/m/01mrr1</td>\n",
       "      <td>A Woman in Flames</td>\n",
       "      <td>1983</td>\n",
       "      <td>NaN</td>\n",
       "      <td>106.0</td>\n",
       "      <td>{\"/m/04306rv\": \"German Language\"}</td>\n",
       "      <td>{\"/m/0345h\": \"Germany\"}</td>\n",
       "      <td>{\"/m/07s9rl0\": \"Drama\"}</td>\n",
       "    </tr>\n",
       "  </tbody>\n",
       "</table>\n",
       "</div>"
      ],
      "text/plain": [
       "   movie_id freebase_id                                         movie_name  \\\n",
       "0    975900   /m/03vyhn                                     Ghosts of Mars   \n",
       "1   3196793   /m/08yl5d  Getting Away with Murder: The JonBenét Ramsey ...   \n",
       "2  28463795  /m/0crgdbh                                        Brun bitter   \n",
       "3   9363483  /m/0285_cd                                   White Of The Eye   \n",
       "4    261236   /m/01mrr1                                  A Woman in Flames   \n",
       "\n",
       "         date   BOrevenue  runtime                            language  \\\n",
       "0  2001-08-24  14010832.0     98.0  {\"/m/02h40lc\": \"English Language\"}   \n",
       "1  2000-02-16         NaN     95.0  {\"/m/02h40lc\": \"English Language\"}   \n",
       "2        1988         NaN     83.0  {\"/m/05f_3\": \"Norwegian Language\"}   \n",
       "3        1987         NaN    110.0  {\"/m/02h40lc\": \"English Language\"}   \n",
       "4        1983         NaN    106.0   {\"/m/04306rv\": \"German Language\"}   \n",
       "\n",
       "                                     country  \\\n",
       "0  {\"/m/09c7w0\": \"United States of America\"}   \n",
       "1  {\"/m/09c7w0\": \"United States of America\"}   \n",
       "2                     {\"/m/05b4w\": \"Norway\"}   \n",
       "3             {\"/m/07ssc\": \"United Kingdom\"}   \n",
       "4                    {\"/m/0345h\": \"Germany\"}   \n",
       "\n",
       "                                               genre  \n",
       "0  {\"/m/01jfsb\": \"Thriller\", \"/m/06n90\": \"Science...  \n",
       "1  {\"/m/02n4kr\": \"Mystery\", \"/m/03bxz7\": \"Biograp...  \n",
       "2  {\"/m/0lsxr\": \"Crime Fiction\", \"/m/07s9rl0\": \"D...  \n",
       "3  {\"/m/01jfsb\": \"Thriller\", \"/m/0glj9q\": \"Erotic...  \n",
       "4                            {\"/m/07s9rl0\": \"Drama\"}  "
      ]
     },
     "execution_count": 6,
     "metadata": {},
     "output_type": "execute_result"
    }
   ],
   "source": [
    "# movies: movie metadata from CMU Movie Summary Corpus\n",
    "colnames = ['movie_id', 'freebase_id', 'movie_name', 'date', 'BOrevenue', 'runtime', 'language', 'country', 'genre']\n",
    "movies = pd.read_csv('./data/movie.metadata.tsv',\n",
    "                    sep='\\t',\n",
    "                    header=None,\n",
    "                    names=colnames)\n",
    "movies.head()"
   ]
  },
  {
   "cell_type": "code",
   "execution_count": 7,
   "id": "64f736f7-f403-456a-8ab9-31971ea5a7fa",
   "metadata": {
    "tags": []
   },
   "outputs": [
    {
     "data": {
      "text/plain": [
       "36572"
      ]
     },
     "execution_count": 7,
     "metadata": {},
     "output_type": "execute_result"
    }
   ],
   "source": [
    "# merge\n",
    "movies.movie_name = movies.movie_name.str.lower()\n",
    "additional.title = additional.title.str.lower()\n",
    "movies_additional = additional[[\"title\", \"imdb_id\", \"revenue\", \"release_date\"]].merge(\n",
    "    movies, left_on=\"title\", right_on=\"movie_name\", how='inner')\n",
    "len(movies_additional)"
   ]
  },
  {
   "cell_type": "code",
   "execution_count": 8,
   "id": "f6a9e561-6f59-4563-b78e-5d55c9de89e9",
   "metadata": {
    "tags": []
   },
   "outputs": [
    {
     "data": {
      "text/plain": [
       "36553"
      ]
     },
     "execution_count": 8,
     "metadata": {},
     "output_type": "execute_result"
    }
   ],
   "source": [
    "# remove prefixes and drop NaNs from imdb_id\n",
    "movies_additional = movies_additional.dropna(subset=['imdb_id']).astype(str).replace(r'^tt0*', '', regex=True)\n",
    "movies_additional['imdb_id'] = movies_additional['imdb_id'].astype('int64')\n",
    "len(movies_additional)"
   ]
  },
  {
   "cell_type": "code",
   "execution_count": 9,
   "id": "fb1f4096-c404-4f8d-a648-c7c6bafdaa22",
   "metadata": {
    "tags": []
   },
   "outputs": [
    {
     "data": {
      "text/plain": [
       "25198"
      ]
     },
     "execution_count": 9,
     "metadata": {},
     "output_type": "execute_result"
    }
   ],
   "source": [
    "# merge\n",
    "movies_additional.movie_id = movies_additional.movie_id.astype(int)\n",
    "movies_additional_summaries = movies_additional.merge(summaries, on=\"movie_id\", how=\"inner\")\n",
    "len(movies_additional_summaries)"
   ]
  },
  {
   "cell_type": "code",
   "execution_count": 10,
   "id": "1dc54b9a-e039-475a-95c6-56e2e0f76749",
   "metadata": {
    "tags": []
   },
   "outputs": [],
   "source": [
    "# calculate average ratings\n",
    "mean_ratings = ratings.groupby(\"movieId\").agg(mean_rating=(\"rating\", \"mean\"))"
   ]
  },
  {
   "cell_type": "code",
   "execution_count": 11,
   "id": "7c732cf7-0246-45b9-bb9b-b2e097063b7b",
   "metadata": {
    "tags": []
   },
   "outputs": [
    {
     "data": {
      "text/plain": [
       "45115"
      ]
     },
     "execution_count": 11,
     "metadata": {},
     "output_type": "execute_result"
    }
   ],
   "source": [
    "# merge\n",
    "imdbid_rating = links.merge(mean_ratings, left_on=\"movieId\", right_on=\"movieId\", how=\"inner\"\n",
    "                          )[[\"imdbId\", \"mean_rating\"]]\n",
    "len(imdbid_rating)"
   ]
  },
  {
   "cell_type": "code",
   "execution_count": 12,
   "id": "cb11ab4f-8c1d-4215-85d1-175bedd4f456",
   "metadata": {
    "tags": []
   },
   "outputs": [
    {
     "name": "stdout",
     "output_type": "stream",
     "text": [
      "Number of movies with summary, metadata, and ratings: 20603\n"
     ]
    }
   ],
   "source": [
    "print(\"Number of movies with summary, metadata, and ratings: {}\".format(\n",
    "    len(set(imdbid_rating.imdbId).intersection(set(movies_additional_summaries.imdb_id)))))"
   ]
  },
  {
   "cell_type": "code",
   "execution_count": 13,
   "id": "aac23a88-fc44-4e1e-8f4a-986855a897d1",
   "metadata": {},
   "outputs": [
    {
     "name": "stdout",
     "output_type": "stream",
     "text": [
      "Number of rows in the final DataFrame: 24886\n"
     ]
    }
   ],
   "source": [
    "# merge\n",
    "result = imdbid_rating.merge(movies_additional_summaries, left_on=\"imdbId\", right_on=\"imdb_id\", how=\"inner\")\n",
    "print(\"Number of rows in the final DataFrame: {}\".format(len(result)))"
   ]
  },
  {
   "cell_type": "code",
   "execution_count": 14,
   "id": "17bea0ce-b454-47ee-9bd0-c3faf32b48f0",
   "metadata": {
    "tags": []
   },
   "outputs": [
    {
     "name": "stdout",
     "output_type": "stream",
     "text": [
      "Percentage of NaN revenue (from additional dataset) in the final DataFrame: 0.00%\n"
     ]
    }
   ],
   "source": [
    "print(\"Percentage of NaN revenue (from additional dataset) in the final DataFrame: {:.2f}%\".format(\n",
    "    100 * sum(result.revenue.isna()) / len(result)))"
   ]
  },
  {
   "cell_type": "code",
   "execution_count": null,
   "id": "e7546e84-a818-49cf-b8c4-1bbf10f714da",
   "metadata": {},
   "outputs": [],
   "source": []
  }
 ],
 "metadata": {
  "kernelspec": {
   "display_name": "Python 3 (ipykernel)",
   "language": "python",
   "name": "python3"
  },
  "language_info": {
   "codemirror_mode": {
    "name": "ipython",
    "version": 3
   },
   "file_extension": ".py",
   "mimetype": "text/x-python",
   "name": "python",
   "nbconvert_exporter": "python",
   "pygments_lexer": "ipython3",
   "version": "3.9.18"
  }
 },
 "nbformat": 4,
 "nbformat_minor": 5
}
