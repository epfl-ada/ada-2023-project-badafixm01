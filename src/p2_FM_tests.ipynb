{
 "cells": [
  {
   "cell_type": "markdown",
   "id": "c9995bd8-cb93-4b85-9dba-ed36b6f5fdfd",
   "metadata": {},
   "source": [
    "# Text preprocessing"
   ]
  },
  {
   "cell_type": "code",
   "execution_count": 1,
   "id": "4765c276-5c98-4ee7-a52d-6ddab9480715",
   "metadata": {
    "tags": []
   },
   "outputs": [
    {
     "name": "stderr",
     "output_type": "stream",
     "text": [
      "[nltk_data] Downloading package punkt to /root/nltk_data...\n",
      "[nltk_data]   Package punkt is already up-to-date!\n",
      "[nltk_data] Downloading package wordnet to /root/nltk_data...\n",
      "[nltk_data]   Package wordnet is already up-to-date!\n",
      "[nltk_data] Downloading package stopwords to /root/nltk_data...\n",
      "[nltk_data]   Package stopwords is already up-to-date!\n"
     ]
    },
    {
     "data": {
      "text/plain": [
       "True"
      ]
     },
     "execution_count": 1,
     "metadata": {},
     "output_type": "execute_result"
    }
   ],
   "source": [
    "import nltk\n",
    "import string\n",
    "from nltk.stem import WordNetLemmatizer\n",
    "from nltk.corpus import stopwords\n",
    "nltk.download('punkt')\n",
    "nltk.download('wordnet')\n",
    "nltk.download('stopwords')"
   ]
  },
  {
   "cell_type": "code",
   "execution_count": 2,
   "id": "97dfd12a-593e-4f6e-8dcc-52d1cc172a83",
   "metadata": {},
   "outputs": [],
   "source": [
    "def preprocess_summary(text):\n",
    "    \"\"\"\n",
    "    Tokenize, lemmatize, remove stopwords and punctuations from an input text.\n",
    "    \n",
    "    Parameters\n",
    "    ----------\n",
    "    text: str, input text\n",
    "    \n",
    "    Returns\n",
    "    -------\n",
    "    str, preprocessed text\n",
    "    \"\"\"\n",
    "    lemmatizer = WordNetLemmatizer()\n",
    "    stop_words = stopwords.words('english')\n",
    "    \n",
    "    tokens = nltk.word_tokenize(text)\n",
    "    text = [word for word in tokens if word not in string.punctuation]\n",
    "    \n",
    "    return \" \".join([lemmatizer.lemmatize(word.lower()) for word in text if word.lower() not in stop_words])"
   ]
  },
  {
   "cell_type": "code",
   "execution_count": 3,
   "id": "ac9a01c8-43fc-4c56-929d-ba7725740891",
   "metadata": {
    "tags": []
   },
   "outputs": [],
   "source": [
    "\"\"\"\n",
    "summaries: dictionary, with movie_id as keys and list of preprocessed words in the summary as values\n",
    "\"\"\"\n",
    "with open(\"./test_data/plot_summaries.txt\", encoding='utf-8') as f:\n",
    "    content = f.readlines()\n",
    "original_summaries = [x.strip() for x in content] \n",
    "summaries = [preprocess_summary(d).split() for d in original_summaries]\n",
    "summaries = {summary[0]: summary[1:] for summary in summaries}"
   ]
  },
  {
   "cell_type": "code",
   "execution_count": 4,
   "id": "c127e63d-c63d-42bb-a71f-ea91cf0e91be",
   "metadata": {
    "tags": []
   },
   "outputs": [
    {
     "data": {
      "text/plain": [
       "\"20663735\\tPoovalli Induchoodan  is sentenced for six years prison life for murdering his classmate. Induchoodan, the only son of Justice Maranchery Karunakara Menon  was framed in the case by Manapally Madhavan Nambiar  and his crony DYSP Sankaranarayanan  to take revenge on idealist judge Menon who had earlier given jail sentence to Manapally in a corruption case. Induchoodan, who had achieved top rank in Indian Civil Service loses the post and Manapally Sudheeran ([[Saikumar  enters the list of civil service trainees. We learn in flashback that it was Ramakrishnan  the son of Moopil Nair , who had actually killed his classmate. Six years passes by and Manapally Madhavan Nambiar, now a former state minister, is dead and Induchoodan, who is all rage at the gross injustice meted out to him - thus destroying his promising life, is released from prison. Induchoodan thwarts Manapally Pavithran  from performing the funeral rituals of Nambiar at Bharathapuzha. Many confrontations between Induchoodan and Manapally's henchmen follow. Induchoodan also falls in love with Anuradha ([[Aishwarya , the strong-willed and independent-minded daughter of Mooppil Nair. Justice Menon and his wife returns back to Kerala to stay with Induchoodan. There is an appearance of a girl named Indulekha ([[Kanaka , who claims to be the daughter of Justice Menon. Menon flatly refuses the claim and banishes her. Forced by circumstances and at the instigation and help of Manapally Pavithran, she reluctantly come out open with the claim. Induchoodan at first thrashes the protesters. But upon knowing the truth from Chandrabhanu his uncle, he accepts the task of her protection in the capacity as elder brother. Induchoodan decides to marry off Indulekha to his good friend Jayakrishnan . Induchoodan has a confrontation with his father and prods him to accept mistake and acknowledge the parentage of Indulekha. Menon ultimately regrets and goes on to confess to his daughter. The very next day, when Induchoodan returns to Poovally, Indulekha is found dead and Menon is accused of murdering her. The whole act was planned by Pavithran, who after killing Indulekha, forces Raman Nair  to testify against Menon in court. In court, Nandagopal Maarar , a close friend of Induchoodan and a famous supreme court lawyer, appears for Menon and manages to lay bare the murder plot and hidden intentions of other party . Menon is judged innocent of the crime by court. After confronting Pavithran and promising just retribution to the crime of killing Indulekha, Induchoodan returns to his father, who now shows remorse for all his actions including not believing in the innocence of his son. But while speaking to Induchoodan, Menon suffers a heart stroke and passes away. At Menon's funeral, Manapally Pavithran arrives to poke fun at Induchoodan and he also tries to carry out the postponed last rituals of his own father. Induchoodan interrupts the ritual and avenges for the death of his sister and father by severely injuring Pavithran. On his way back to peaceful life, Induchoodan accepts Anuradha as his life partner.\""
      ]
     },
     "execution_count": 4,
     "metadata": {},
     "output_type": "execute_result"
    }
   ],
   "source": [
    "original_summaries[2] # original"
   ]
  },
  {
   "cell_type": "code",
   "execution_count": 5,
   "id": "b9c0128d-214e-4197-8532-7439529dfaeb",
   "metadata": {
    "tags": []
   },
   "outputs": [
    {
     "name": "stdout",
     "output_type": "stream",
     "text": [
      "['shlykov', 'hard-working', 'taxi', 'driver', 'lyosha', 'saxophonist', 'develop', 'bizarre', 'love-hate', 'relationship', 'despite', 'prejudice', 'realize', \"n't\", 'different']\n"
     ]
    }
   ],
   "source": [
    "print(summaries['23890098']) # preprocessed"
   ]
  },
  {
   "cell_type": "code",
   "execution_count": 6,
   "id": "a4322658-cfd8-4c56-b131-d1d0533c5a3b",
   "metadata": {},
   "outputs": [],
   "source": [
    "import pandas as pd\n",
    "\n",
    "data = pd.read_table(\"NRC-lexicon/NRC-Emotion-Intensity-Lexicon-v1-ForVariousLanguages-withZeroIntensityEntries.txt\")\n",
    "data_filt = data.iloc[:,0:9].copy()"
   ]
  },
  {
   "cell_type": "code",
   "execution_count": 7,
   "metadata": {},
   "outputs": [],
   "source": [
    "holder = pd.DataFrame(columns=data_filt.columns)\n",
    "holder = holder.drop(columns = \"English Word\")\n",
    "for key in summaries:\n",
    " test = pd.DataFrame(columns=data_filt.columns)\n",
    " for i in range(0,len(summaries[key])):\n",
    "  selection = data_filt[data_filt[\"English Word\"] == summaries[key][i]]\n",
    "  test = pd.concat([test, selection], ignore_index=True)\n",
    " test[\"Movie ID\"] = key\n",
    " test = test.drop(columns = \"English Word\")\n",
    " test = test.set_index(\"Movie ID\")\n",
    " test = test.groupby(\"Movie ID\").sum()\n",
    " holder = pd.concat([holder, test], ignore_index=False)\n"
   ]
  },
  {
   "cell_type": "code",
   "execution_count": 21,
   "metadata": {},
   "outputs": [],
   "source": [
    "holder\n",
    "holder.to_csv(\"MovieIDs_emotions.csv\")"
   ]
  },
  {
   "cell_type": "code",
   "execution_count": 18,
   "metadata": {},
   "outputs": [
    {
     "data": {
      "text/plain": [
       "Text(0, 0.3, 'Number of non-zero valued words')"
      ]
     },
     "execution_count": 18,
     "metadata": {},
     "output_type": "execute_result"
    },
    {
     "data": {
      "image/png": "[encoded data removed]",
      "text/plain": [
       "<Figure size 800x600 with 8 Axes>"
      ]
     },
     "metadata": {},
     "output_type": "display_data"
    }
   ],
   "source": [
    "import matplotlib\n",
    "import matplotlib.pyplot as plt\n",
    "# Check the distribution of intensities for each kind of emotion in the lexicon\n",
    "fig, ax = plt.subplots(2,4,figsize= (8,6), sharey = True, sharex = True)\n",
    "\n",
    "for i in range(1,9):\n",
    " subplt = ax[i//5,i%4]\n",
    " subplt.hist(holder[holder.columns[i-1]][holder[holder.columns[i-1]] != 0], log=True)\n",
    " subplt.set_title(holder.columns[i-1])\n",
    "\n",
    "fig.tight_layout()\n",
    "\n",
    "fig.text(0.4,0, \"Intensity\")\n",
    "fig.text(0,0.3, \"Number of non-zero valued words\", rotation = 90)"
   ]
  },
  {
   "cell_type": "code",
   "execution_count": 15,
   "metadata": {},
   "outputs": [
    {
     "name": "stdout",
     "output_type": "stream",
     "text": [
      "ax[0,1]\n",
      "ax[0,2]\n",
      "ax[0,3]\n",
      "ax[0,0]\n",
      "ax[1,1]\n",
      "ax[1,2]\n",
      "ax[1,3]\n",
      "ax[1,0]\n"
     ]
    }
   ],
   "source": [
    "for i in range(1,9):\n",
    " print('ax[{},{}]'.format(i//5,i%4))"
   ]
  }
 ],
 "metadata": {
  "kernelspec": {
   "display_name": "Python 3 (ipykernel)",
   "language": "python",
   "name": "python3"
  },
  "language_info": {
   "codemirror_mode": {
    "name": "ipython",
    "version": 3
   },
   "file_extension": ".py",
   "mimetype": "text/x-python",
   "name": "python",
   "nbconvert_exporter": "python",
   "pygments_lexer": "ipython3",
   "version": "3.9.18"
  }
 },
 "nbformat": 4,
 "nbformat_minor": 5
}
