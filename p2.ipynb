{
 "cells": [
  {
   "cell_type": "markdown",
   "id": "c9995bd8-cb93-4b85-9dba-ed36b6f5fdfd",
   "metadata": {},
   "source": [
    "# Text preprocessing"
   ]
  },
  {
   "cell_type": "code",
   "execution_count": null,
   "id": "4765c276-5c98-4ee7-a52d-6ddab9480715",
   "metadata": {
    "tags": []
   },
   "outputs": [],
   "source": [
    "import nltk\n",
    "import string\n",
    "from nltk.stem import WordNetLemmatizer\n",
    "from nltk.corpus import stopwords\n",
    "nltk.download('punkt')\n",
    "nltk.download('wordnet')\n",
    "nltk.download('stopwords')"
   ]
  },
  {
   "cell_type": "code",
   "execution_count": 69,
   "id": "97dfd12a-593e-4f6e-8dcc-52d1cc172a83",
   "metadata": {},
   "outputs": [],
   "source": [
    "def preprocess_summary(text):\n",
    "    \"\"\"\n",
    "    Tokenize, lemmatize, remove stopwords and punctuations from an input text.\n",
    "    \n",
    "    Parameters\n",
    "    ----------\n",
    "    text: str, input text\n",
    "    \n",
    "    Returns\n",
    "    -------\n",
    "    str, preprocessed text\n",
    "    \"\"\"\n",
    "    lemmatizer = WordNetLemmatizer()\n",
    "    stop_words = stopwords.words('english')\n",
    "    \n",
    "    tokens = nltk.word_tokenize(text)\n",
    "    text = [word for word in tokens if word not in string.punctuation]\n",
    "    \n",
    "    return \" \".join([lemmatizer.lemmatize(word.lower()) for word in text if word.lower() not in stop_words])"
   ]
  },
  {
   "cell_type": "code",
   "execution_count": 71,
   "id": "ac9a01c8-43fc-4c56-929d-ba7725740891",
   "metadata": {
    "tags": []
   },
   "outputs": [],
   "source": [
    "\"\"\"\n",
    "summaries: dictionary, with movie_id as keys and list of preprocessed words in the summary as values\n",
    "\"\"\"\n",
    "with open(\"./data/plot_summaries.txt\", encoding='utf-8') as f:\n",
    "    content = f.readlines()\n",
    "original_summaries = [x.strip() for x in content] \n",
    "summaries = [preprocess_summary(d).split() for d in original_summaries]\n",
    "summaries = {summary[0]: summary[1:] for summary in summaries}"
   ]
  },
  {
   "cell_type": "code",
   "execution_count": 72,
   "id": "c127e63d-c63d-42bb-a71f-ea91cf0e91be",
   "metadata": {
    "tags": []
   },
   "outputs": [
    {
     "data": {
      "text/plain": [
       "\"23890098\\tShlykov, a hard-working taxi driver and Lyosha, a saxophonist, develop a bizarre love-hate relationship, and despite their prejudices, realize they aren't so different after all.\""
      ]
     },
     "execution_count": 72,
     "metadata": {},
     "output_type": "execute_result"
    }
   ],
   "source": [
    "original_summaries[0] # original"
   ]
  },
  {
   "cell_type": "code",
   "execution_count": 76,
   "id": "b9c0128d-214e-4197-8532-7439529dfaeb",
   "metadata": {
    "tags": []
   },
   "outputs": [
    {
     "name": "stdout",
     "output_type": "stream",
     "text": [
      "['shlykov', 'hard-working', 'taxi', 'driver', 'lyosha', 'saxophonist', 'develop', 'bizarre', 'love-hate', 'relationship', 'despite', 'prejudice', 'realize', \"n't\", 'different']\n"
     ]
    }
   ],
   "source": [
    "print(summaries['23890098']) # preprocessed"
   ]
  },
  {
   "cell_type": "code",
   "execution_count": null,
   "id": "a4322658-cfd8-4c56-b131-d1d0533c5a3b",
   "metadata": {},
   "outputs": [],
   "source": []
  }
 ],
 "metadata": {
  "kernelspec": {
   "display_name": "Python 3 (ipykernel)",
   "language": "python",
   "name": "python3"
  },
  "language_info": {
   "codemirror_mode": {
    "name": "ipython",
    "version": 3
   },
   "file_extension": ".py",
   "mimetype": "text/x-python",
   "name": "python",
   "nbconvert_exporter": "python",
   "pygments_lexer": "ipython3",
   "version": "3.9.18"
  }
 },
 "nbformat": 4,
 "nbformat_minor": 5
}
