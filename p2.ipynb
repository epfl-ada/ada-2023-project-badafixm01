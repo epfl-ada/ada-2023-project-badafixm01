{
 "cells": [
  {
   "cell_type": "markdown",
   "id": "c9995bd8-cb93-4b85-9dba-ed36b6f5fdfd",
   "metadata": {},
   "source": [
    "# Text preprocessing"
   ]
  },
  {
   "cell_type": "code",
   "execution_count": null,
   "id": "4765c276-5c98-4ee7-a52d-6ddab9480715",
   "metadata": {
    "tags": []
   },
   "outputs": [],
   "source": [
    "import os\n",
    "import nltk\n",
    "import string\n",
    "from nltk.stem import WordNetLemmatizer\n",
    "from nltk.corpus import stopwords\n",
    "nltk.download('punkt')\n",
    "nltk.download('wordnet')\n",
    "nltk.download('stopwords')"
   ]
  },
  {
   "cell_type": "code",
   "execution_count": 8,
   "id": "97dfd12a-593e-4f6e-8dcc-52d1cc172a83",
   "metadata": {},
   "outputs": [],
   "source": [
    "def tokenize(text):\n",
    "    \"\"\"\n",
    "    Tokenize, lemmatize, remove stopwords and punctuations from an input text.\n",
    "    \n",
    "    Parameters\n",
    "    ----------\n",
    "    text: str, input text\n",
    "    \n",
    "    Returns\n",
    "    -------\n",
    "    str, preprocessed text\n",
    "    \"\"\"\n",
    "    lemmatizer = WordNetLemmatizer()\n",
    "    stop_words = stopwords.words('english')\n",
    "    \n",
    "    tokens = nltk.word_tokenize(text)\n",
    "    text = [word for word in tokens if word not in string.punctuation]\n",
    "    \n",
    "    return \" \".join([lemmatizer.lemmatize(word.lower()) for word in text if word.lower() not in stop_words])"
   ]
  },
  {
   "cell_type": "code",
   "execution_count": 16,
   "id": "ac9a01c8-43fc-4c56-929d-ba7725740891",
   "metadata": {
    "tags": []
   },
   "outputs": [],
   "source": [
    "def preprocess_summaries(readpath, savepath=None):\n",
    "    \"\"\"\n",
    "    Preprocess all movie summaries.\n",
    "    \n",
    "    Parameters\n",
    "    ----------\n",
    "    readpath: str, path to original summaries (.txt)\n",
    "    savepath: str, path to preprocessed summaries (.csv)\n",
    "    \n",
    "    Returns\n",
    "    -------\n",
    "    original_summaries: list, original summaries\n",
    "    df: pandas.DataFrame, preprocessed summaries with movie_id as index\n",
    "    \"\"\"\n",
    "    with open(readpath, encoding='utf-8') as f:\n",
    "        content = f.readlines()\n",
    "    original_summaries = [x.strip() for x in content] \n",
    "    summaries = [tokenize(d).split() for d in original_summaries]\n",
    "    summaries = {summary[0]: \" \".join(summary[1:]) for summary in summaries}\n",
    "    \n",
    "    df = pd.DataFrame.from_dict(summaries, orient='index', columns=['text'])\n",
    "    df.index = df.index.astype('int64').rename('movie_id')\n",
    "    \n",
    "    if savepath is not None:\n",
    "        df.to_csv(savepath)\n",
    "    return original_summaries, df"
   ]
  },
  {
   "cell_type": "code",
   "execution_count": 17,
   "id": "dcb8957d-a7e4-43d9-9d7b-effae62279b8",
   "metadata": {
    "tags": []
   },
   "outputs": [],
   "source": [
    "readpath = \"./data/plot_summaries.txt\"\n",
    "savepath = \"./generated/summaries.csv\"\n",
    "os.makedirs(\"./generated/\", exist_ok=True)\n",
    "\n",
    "original_summaries, summaries = preprocess_summaries(readpath, savepath)"
   ]
  },
  {
   "cell_type": "code",
   "execution_count": 18,
   "id": "c127e63d-c63d-42bb-a71f-ea91cf0e91be",
   "metadata": {
    "tags": []
   },
   "outputs": [
    {
     "data": {
      "text/plain": [
       "\"23890098\\tShlykov, a hard-working taxi driver and Lyosha, a saxophonist, develop a bizarre love-hate relationship, and despite their prejudices, realize they aren't so different after all.\""
      ]
     },
     "execution_count": 18,
     "metadata": {},
     "output_type": "execute_result"
    }
   ],
   "source": [
    "original_summaries[0] # original"
   ]
  },
  {
   "cell_type": "code",
   "execution_count": 20,
   "id": "b9c0128d-214e-4197-8532-7439529dfaeb",
   "metadata": {
    "tags": []
   },
   "outputs": [
    {
     "data": {
      "text/plain": [
       "\"shlykov hard-working taxi driver lyosha saxophonist develop bizarre love-hate relationship despite prejudice realize n't different\""
      ]
     },
     "execution_count": 20,
     "metadata": {},
     "output_type": "execute_result"
    }
   ],
   "source": [
    "summaries.iloc[0]['text'] # preprocessed"
   ]
  },
  {
   "cell_type": "markdown",
   "id": "04384f93-db8c-4a4e-9214-eb91ee33a02c",
   "metadata": {},
   "source": [
    "# Join movie metadata"
   ]
  },
  {
   "cell_type": "code",
   "execution_count": 1,
   "id": "855577e8-fda3-4362-898a-aafc3423cbad",
   "metadata": {
    "tags": []
   },
   "outputs": [],
   "source": [
    "import pandas as pd"
   ]
  },
  {
   "cell_type": "code",
   "execution_count": 2,
   "id": "a63e3efe-6ed8-44a2-9243-ba180cbd151e",
   "metadata": {
    "tags": []
   },
   "outputs": [
    {
     "data": {
      "text/html": [
       "<div>\n",
       "<style scoped>\n",
       "    .dataframe tbody tr th:only-of-type {\n",
       "        vertical-align: middle;\n",
       "    }\n",
       "\n",
       "    .dataframe tbody tr th {\n",
       "        vertical-align: top;\n",
       "    }\n",
       "\n",
       "    .dataframe thead th {\n",
       "        text-align: right;\n",
       "    }\n",
       "</style>\n",
       "<table border=\"1\" class=\"dataframe\">\n",
       "  <thead>\n",
       "    <tr style=\"text-align: right;\">\n",
       "      <th></th>\n",
       "      <th>movie_id</th>\n",
       "      <th>freebase_id</th>\n",
       "      <th>movie_name</th>\n",
       "      <th>date</th>\n",
       "      <th>revenue</th>\n",
       "      <th>runtime</th>\n",
       "      <th>language</th>\n",
       "      <th>country</th>\n",
       "      <th>genre</th>\n",
       "    </tr>\n",
       "  </thead>\n",
       "  <tbody>\n",
       "    <tr>\n",
       "      <th>0</th>\n",
       "      <td>975900</td>\n",
       "      <td>/m/03vyhn</td>\n",
       "      <td>Ghosts of Mars</td>\n",
       "      <td>2001-08-24</td>\n",
       "      <td>14010832.0</td>\n",
       "      <td>98.0</td>\n",
       "      <td>{\"/m/02h40lc\": \"English Language\"}</td>\n",
       "      <td>{\"/m/09c7w0\": \"United States of America\"}</td>\n",
       "      <td>{\"/m/01jfsb\": \"Thriller\", \"/m/06n90\": \"Science...</td>\n",
       "    </tr>\n",
       "    <tr>\n",
       "      <th>1</th>\n",
       "      <td>3196793</td>\n",
       "      <td>/m/08yl5d</td>\n",
       "      <td>Getting Away with Murder: The JonBenét Ramsey ...</td>\n",
       "      <td>2000-02-16</td>\n",
       "      <td>NaN</td>\n",
       "      <td>95.0</td>\n",
       "      <td>{\"/m/02h40lc\": \"English Language\"}</td>\n",
       "      <td>{\"/m/09c7w0\": \"United States of America\"}</td>\n",
       "      <td>{\"/m/02n4kr\": \"Mystery\", \"/m/03bxz7\": \"Biograp...</td>\n",
       "    </tr>\n",
       "    <tr>\n",
       "      <th>2</th>\n",
       "      <td>28463795</td>\n",
       "      <td>/m/0crgdbh</td>\n",
       "      <td>Brun bitter</td>\n",
       "      <td>1988</td>\n",
       "      <td>NaN</td>\n",
       "      <td>83.0</td>\n",
       "      <td>{\"/m/05f_3\": \"Norwegian Language\"}</td>\n",
       "      <td>{\"/m/05b4w\": \"Norway\"}</td>\n",
       "      <td>{\"/m/0lsxr\": \"Crime Fiction\", \"/m/07s9rl0\": \"D...</td>\n",
       "    </tr>\n",
       "    <tr>\n",
       "      <th>3</th>\n",
       "      <td>9363483</td>\n",
       "      <td>/m/0285_cd</td>\n",
       "      <td>White Of The Eye</td>\n",
       "      <td>1987</td>\n",
       "      <td>NaN</td>\n",
       "      <td>110.0</td>\n",
       "      <td>{\"/m/02h40lc\": \"English Language\"}</td>\n",
       "      <td>{\"/m/07ssc\": \"United Kingdom\"}</td>\n",
       "      <td>{\"/m/01jfsb\": \"Thriller\", \"/m/0glj9q\": \"Erotic...</td>\n",
       "    </tr>\n",
       "    <tr>\n",
       "      <th>4</th>\n",
       "      <td>261236</td>\n",
       "      <td>/m/01mrr1</td>\n",
       "      <td>A Woman in Flames</td>\n",
       "      <td>1983</td>\n",
       "      <td>NaN</td>\n",
       "      <td>106.0</td>\n",
       "      <td>{\"/m/04306rv\": \"German Language\"}</td>\n",
       "      <td>{\"/m/0345h\": \"Germany\"}</td>\n",
       "      <td>{\"/m/07s9rl0\": \"Drama\"}</td>\n",
       "    </tr>\n",
       "  </tbody>\n",
       "</table>\n",
       "</div>"
      ],
      "text/plain": [
       "   movie_id freebase_id                                         movie_name  \\\n",
       "0    975900   /m/03vyhn                                     Ghosts of Mars   \n",
       "1   3196793   /m/08yl5d  Getting Away with Murder: The JonBenét Ramsey ...   \n",
       "2  28463795  /m/0crgdbh                                        Brun bitter   \n",
       "3   9363483  /m/0285_cd                                   White Of The Eye   \n",
       "4    261236   /m/01mrr1                                  A Woman in Flames   \n",
       "\n",
       "         date     revenue  runtime                            language  \\\n",
       "0  2001-08-24  14010832.0     98.0  {\"/m/02h40lc\": \"English Language\"}   \n",
       "1  2000-02-16         NaN     95.0  {\"/m/02h40lc\": \"English Language\"}   \n",
       "2        1988         NaN     83.0  {\"/m/05f_3\": \"Norwegian Language\"}   \n",
       "3        1987         NaN    110.0  {\"/m/02h40lc\": \"English Language\"}   \n",
       "4        1983         NaN    106.0   {\"/m/04306rv\": \"German Language\"}   \n",
       "\n",
       "                                     country  \\\n",
       "0  {\"/m/09c7w0\": \"United States of America\"}   \n",
       "1  {\"/m/09c7w0\": \"United States of America\"}   \n",
       "2                     {\"/m/05b4w\": \"Norway\"}   \n",
       "3             {\"/m/07ssc\": \"United Kingdom\"}   \n",
       "4                    {\"/m/0345h\": \"Germany\"}   \n",
       "\n",
       "                                               genre  \n",
       "0  {\"/m/01jfsb\": \"Thriller\", \"/m/06n90\": \"Science...  \n",
       "1  {\"/m/02n4kr\": \"Mystery\", \"/m/03bxz7\": \"Biograp...  \n",
       "2  {\"/m/0lsxr\": \"Crime Fiction\", \"/m/07s9rl0\": \"D...  \n",
       "3  {\"/m/01jfsb\": \"Thriller\", \"/m/0glj9q\": \"Erotic...  \n",
       "4                            {\"/m/07s9rl0\": \"Drama\"}  "
      ]
     },
     "execution_count": 2,
     "metadata": {},
     "output_type": "execute_result"
    }
   ],
   "source": [
    "colnames = ['movie_id', 'freebase_id', 'movie_name', 'date', 'revenue', 'runtime', 'language', 'country', 'genre']\n",
    "movies = pd.read_csv('./data/movie.metadata.tsv',\n",
    "                    sep='\\t',\n",
    "                    header=None,\n",
    "                    names=colnames)\n",
    "movies.head()"
   ]
  },
  {
   "cell_type": "code",
   "execution_count": 3,
   "id": "14529397-f1a6-48c3-9e8e-4b61f2d251e9",
   "metadata": {
    "tags": []
   },
   "outputs": [
    {
     "data": {
      "text/html": [
       "<div>\n",
       "<style scoped>\n",
       "    .dataframe tbody tr th:only-of-type {\n",
       "        vertical-align: middle;\n",
       "    }\n",
       "\n",
       "    .dataframe tbody tr th {\n",
       "        vertical-align: top;\n",
       "    }\n",
       "\n",
       "    .dataframe thead th {\n",
       "        text-align: right;\n",
       "    }\n",
       "</style>\n",
       "<table border=\"1\" class=\"dataframe\">\n",
       "  <thead>\n",
       "    <tr style=\"text-align: right;\">\n",
       "      <th></th>\n",
       "      <th>movie_id</th>\n",
       "      <th>text</th>\n",
       "      <th>freebase_id</th>\n",
       "      <th>movie_name</th>\n",
       "      <th>date</th>\n",
       "      <th>revenue</th>\n",
       "      <th>runtime</th>\n",
       "      <th>language</th>\n",
       "      <th>country</th>\n",
       "      <th>genre</th>\n",
       "    </tr>\n",
       "  </thead>\n",
       "  <tbody>\n",
       "    <tr>\n",
       "      <th>0</th>\n",
       "      <td>23890098</td>\n",
       "      <td>shlykov hard-working taxi driver lyosha saxoph...</td>\n",
       "      <td>/m/076w2lb</td>\n",
       "      <td>Taxi Blues</td>\n",
       "      <td>1990-09-07</td>\n",
       "      <td>NaN</td>\n",
       "      <td>110.0</td>\n",
       "      <td>{\"/m/06b_j\": \"Russian Language\"}</td>\n",
       "      <td>{\"/m/0f8l9c\": \"France\", \"/m/05vz3zq\": \"Soviet ...</td>\n",
       "      <td>Drama</td>\n",
       "    </tr>\n",
       "    <tr>\n",
       "      <th>1</th>\n",
       "      <td>23890098</td>\n",
       "      <td>shlykov hard-working taxi driver lyosha saxoph...</td>\n",
       "      <td>/m/076w2lb</td>\n",
       "      <td>Taxi Blues</td>\n",
       "      <td>1990-09-07</td>\n",
       "      <td>NaN</td>\n",
       "      <td>110.0</td>\n",
       "      <td>{\"/m/06b_j\": \"Russian Language\"}</td>\n",
       "      <td>{\"/m/0f8l9c\": \"France\", \"/m/05vz3zq\": \"Soviet ...</td>\n",
       "      <td>World cinema</td>\n",
       "    </tr>\n",
       "    <tr>\n",
       "      <th>2</th>\n",
       "      <td>31186339</td>\n",
       "      <td>nation panem consists wealthy capitol twelve p...</td>\n",
       "      <td>/m/0gkz15s</td>\n",
       "      <td>The Hunger Games</td>\n",
       "      <td>2012-03-12</td>\n",
       "      <td>686533290.0</td>\n",
       "      <td>142.0</td>\n",
       "      <td>{\"/m/02h40lc\": \"English Language\"}</td>\n",
       "      <td>{\"/m/09c7w0\": \"United States of America\"}</td>\n",
       "      <td>Action/Adventure</td>\n",
       "    </tr>\n",
       "    <tr>\n",
       "      <th>3</th>\n",
       "      <td>31186339</td>\n",
       "      <td>nation panem consists wealthy capitol twelve p...</td>\n",
       "      <td>/m/0gkz15s</td>\n",
       "      <td>The Hunger Games</td>\n",
       "      <td>2012-03-12</td>\n",
       "      <td>686533290.0</td>\n",
       "      <td>142.0</td>\n",
       "      <td>{\"/m/02h40lc\": \"English Language\"}</td>\n",
       "      <td>{\"/m/09c7w0\": \"United States of America\"}</td>\n",
       "      <td>Science Fiction</td>\n",
       "    </tr>\n",
       "    <tr>\n",
       "      <th>4</th>\n",
       "      <td>31186339</td>\n",
       "      <td>nation panem consists wealthy capitol twelve p...</td>\n",
       "      <td>/m/0gkz15s</td>\n",
       "      <td>The Hunger Games</td>\n",
       "      <td>2012-03-12</td>\n",
       "      <td>686533290.0</td>\n",
       "      <td>142.0</td>\n",
       "      <td>{\"/m/02h40lc\": \"English Language\"}</td>\n",
       "      <td>{\"/m/09c7w0\": \"United States of America\"}</td>\n",
       "      <td>Action</td>\n",
       "    </tr>\n",
       "  </tbody>\n",
       "</table>\n",
       "</div>"
      ],
      "text/plain": [
       "   movie_id                                               text freebase_id  \\\n",
       "0  23890098  shlykov hard-working taxi driver lyosha saxoph...  /m/076w2lb   \n",
       "1  23890098  shlykov hard-working taxi driver lyosha saxoph...  /m/076w2lb   \n",
       "2  31186339  nation panem consists wealthy capitol twelve p...  /m/0gkz15s   \n",
       "3  31186339  nation panem consists wealthy capitol twelve p...  /m/0gkz15s   \n",
       "4  31186339  nation panem consists wealthy capitol twelve p...  /m/0gkz15s   \n",
       "\n",
       "         movie_name        date      revenue  runtime  \\\n",
       "0        Taxi Blues  1990-09-07          NaN    110.0   \n",
       "1        Taxi Blues  1990-09-07          NaN    110.0   \n",
       "2  The Hunger Games  2012-03-12  686533290.0    142.0   \n",
       "3  The Hunger Games  2012-03-12  686533290.0    142.0   \n",
       "4  The Hunger Games  2012-03-12  686533290.0    142.0   \n",
       "\n",
       "                             language  \\\n",
       "0    {\"/m/06b_j\": \"Russian Language\"}   \n",
       "1    {\"/m/06b_j\": \"Russian Language\"}   \n",
       "2  {\"/m/02h40lc\": \"English Language\"}   \n",
       "3  {\"/m/02h40lc\": \"English Language\"}   \n",
       "4  {\"/m/02h40lc\": \"English Language\"}   \n",
       "\n",
       "                                             country             genre  \n",
       "0  {\"/m/0f8l9c\": \"France\", \"/m/05vz3zq\": \"Soviet ...             Drama  \n",
       "1  {\"/m/0f8l9c\": \"France\", \"/m/05vz3zq\": \"Soviet ...      World cinema  \n",
       "2          {\"/m/09c7w0\": \"United States of America\"}  Action/Adventure  \n",
       "3          {\"/m/09c7w0\": \"United States of America\"}   Science Fiction  \n",
       "4          {\"/m/09c7w0\": \"United States of America\"}            Action  "
      ]
     },
     "execution_count": 3,
     "metadata": {},
     "output_type": "execute_result"
    }
   ],
   "source": [
    "summaries = pd.read_csv(\"./generated/summaries.csv\")\n",
    "df = summaries.merge(movies, on=\"movie_id\", how=\"inner\")\n",
    "# convert \"genre\" column to dictionary and expand it into new rows\n",
    "df.genre = df.genre.apply(lambda x: list(eval(x).values()))\n",
    "df = df.explode('genre').reset_index(drop=True)\n",
    "df.head()"
   ]
  },
  {
   "cell_type": "markdown",
   "id": "7d684a54-11f4-4f67-9d51-b6ac724c84f4",
   "metadata": {},
   "source": [
    "# NRC lexicon"
   ]
  },
  {
   "cell_type": "code",
   "execution_count": 9,
   "id": "82a3c724-cc19-4753-a2ce-92f2f1f60a3b",
   "metadata": {
    "tags": []
   },
   "outputs": [
    {
     "data": {
      "text/html": [
       "<div>\n",
       "<style scoped>\n",
       "    .dataframe tbody tr th:only-of-type {\n",
       "        vertical-align: middle;\n",
       "    }\n",
       "\n",
       "    .dataframe tbody tr th {\n",
       "        vertical-align: top;\n",
       "    }\n",
       "\n",
       "    .dataframe thead th {\n",
       "        text-align: right;\n",
       "    }\n",
       "</style>\n",
       "<table border=\"1\" class=\"dataframe\">\n",
       "  <thead>\n",
       "    <tr style=\"text-align: right;\">\n",
       "      <th></th>\n",
       "      <th>word</th>\n",
       "      <th>emotion</th>\n",
       "    </tr>\n",
       "  </thead>\n",
       "  <tbody>\n",
       "    <tr>\n",
       "      <th>18</th>\n",
       "      <td>abacus</td>\n",
       "      <td>trust</td>\n",
       "    </tr>\n",
       "    <tr>\n",
       "      <th>22</th>\n",
       "      <td>abandon</td>\n",
       "      <td>fear</td>\n",
       "    </tr>\n",
       "    <tr>\n",
       "      <th>26</th>\n",
       "      <td>abandon</td>\n",
       "      <td>sadness</td>\n",
       "    </tr>\n",
       "    <tr>\n",
       "      <th>29</th>\n",
       "      <td>abandoned</td>\n",
       "      <td>anger</td>\n",
       "    </tr>\n",
       "    <tr>\n",
       "      <th>32</th>\n",
       "      <td>abandoned</td>\n",
       "      <td>fear</td>\n",
       "    </tr>\n",
       "  </tbody>\n",
       "</table>\n",
       "</div>"
      ],
      "text/plain": [
       "         word  emotion\n",
       "18     abacus    trust\n",
       "22    abandon     fear\n",
       "26    abandon  sadness\n",
       "29  abandoned    anger\n",
       "32  abandoned     fear"
      ]
     },
     "execution_count": 9,
     "metadata": {},
     "output_type": "execute_result"
    }
   ],
   "source": [
    "lexicon = pd.read_csv(\"./lexicons/NRC-Emotion-Lexicon-Wordlevel-v0.92.txt\", \n",
    "                      sep=\"\\t\", names=[\"word\", \"emotion\", \"label\"], header=0)\n",
    "lexicon = lexicon[(lexicon.label==1) & (lexicon.emotion != 'positive') & (lexicon.emotion != 'negative')].drop(\"label\", axis=1)\n",
    "lexicon.head()"
   ]
  },
  {
   "cell_type": "markdown",
   "id": "fb2bf121-cc55-4968-b15d-78fa32902780",
   "metadata": {},
   "source": [
    "# Emotion distribution analysis"
   ]
  },
  {
   "cell_type": "markdown",
   "id": "d5838491-9402-46e2-9fad-2b238f957b8b",
   "metadata": {},
   "source": [
    "**Idea:** Use normalized emotion distribution instead of sentiment score as the predictor in regression analysis."
   ]
  },
  {
   "cell_type": "code",
   "execution_count": 10,
   "id": "3bb046ee-8519-4d8e-b3e2-6b7a76347d22",
   "metadata": {
    "tags": []
   },
   "outputs": [],
   "source": [
    "from collections import defaultdict\n",
    "\n",
    "counts = defaultdict(int)\n",
    "emotions = lexicon[\"emotion\"].unique()\n",
    "text = df.iloc[2][\"text\"] # example\n",
    "\n",
    "for emotion in emotions:\n",
    "    words = lexicon.groupby(\"emotion\")[\"word\"].get_group(emotion).astype(str).values\n",
    "    counts[emotion] += sum(word in words for word in text.split())"
   ]
  },
  {
   "cell_type": "code",
   "execution_count": 11,
   "id": "a741d929-1175-41a7-ab23-6f0ff5de650d",
   "metadata": {
    "tags": []
   },
   "outputs": [
    {
     "data": {
      "image/png": "[encoded data removed]",
      "text/plain": [
       "<Figure size 400x300 with 1 Axes>"
      ]
     },
     "metadata": {},
     "output_type": "display_data"
    }
   ],
   "source": [
    "import matplotlib.pyplot as plt\n",
    "\n",
    "counts = {k: v/sum(counts.values()) for k, v in counts.items()}\n",
    "\n",
    "plt.figure(figsize=(4, 3))\n",
    "plt.bar(counts.keys(), counts.values(), width=0.5)\n",
    "plt.xticks(rotation=90)\n",
    "plt.title(\"Normalized emotion distribution in an example movie summary\")\n",
    "plt.show()"
   ]
  },
  {
   "cell_type": "code",
   "execution_count": null,
   "id": "de60bf33-bc41-4ed8-9e75-cf556c4c6711",
   "metadata": {},
   "outputs": [],
   "source": []
  }
 ],
 "metadata": {
  "kernelspec": {
   "display_name": "Python 3 (ipykernel)",
   "language": "python",
   "name": "python3"
  },
  "language_info": {
   "codemirror_mode": {
    "name": "ipython",
    "version": 3
   },
   "file_extension": ".py",
   "mimetype": "text/x-python",
   "name": "python",
   "nbconvert_exporter": "python",
   "pygments_lexer": "ipython3",
   "version": "3.9.18"
  }
 },
 "nbformat": 4,
 "nbformat_minor": 5
}
